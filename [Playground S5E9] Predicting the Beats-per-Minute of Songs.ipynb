{
 "cells": [
  {
   "cell_type": "markdown",
   "id": "3d501dc8",
   "metadata": {
    "papermill": {
     "duration": 0.004877,
     "end_time": "2025-09-13T16:49:19.634590",
     "exception": false,
     "start_time": "2025-09-13T16:49:19.629713",
     "status": "completed"
    },
    "tags": []
   },
   "source": [
    "# Imports 🔊"
   ]
  },
  {
   "cell_type": "code",
   "execution_count": 1,
   "id": "f972dc34",
   "metadata": {
    "_cell_guid": "b1076dfc-b9ad-4769-8c92-a6c4dae69d19",
    "_uuid": "8f2839f25d086af736a60e9eeb907d3b93b6e0e5",
    "execution": {
     "iopub.execute_input": "2025-09-13T16:49:19.644377Z",
     "iopub.status.busy": "2025-09-13T16:49:19.643984Z",
     "iopub.status.idle": "2025-09-13T16:49:21.522041Z",
     "shell.execute_reply": "2025-09-13T16:49:21.521124Z"
    },
    "papermill": {
     "duration": 1.884758,
     "end_time": "2025-09-13T16:49:21.523540",
     "exception": false,
     "start_time": "2025-09-13T16:49:19.638782",
     "status": "completed"
    },
    "tags": []
   },
   "outputs": [
    {
     "name": "stdout",
     "output_type": "stream",
     "text": [
      "/kaggle/input/playground-series-s5e9/sample_submission.csv\n",
      "/kaggle/input/playground-series-s5e9/train.csv\n",
      "/kaggle/input/playground-series-s5e9/test.csv\n"
     ]
    }
   ],
   "source": [
    "import numpy as np # linear algebra\n",
    "import pandas as pd # data processing, CSV file I/O (e.g. pd.read_csv)\n",
    "import matplotlib.pyplot as plt\n",
    "\n",
    "import os\n",
    "for dirname, _, filenames in os.walk('/kaggle/input'):\n",
    "    for filename in filenames:\n",
    "        print(os.path.join(dirname, filename))"
   ]
  },
  {
   "cell_type": "code",
   "execution_count": 2,
   "id": "57a11a4c",
   "metadata": {
    "execution": {
     "iopub.execute_input": "2025-09-13T16:49:21.532933Z",
     "iopub.status.busy": "2025-09-13T16:49:21.532516Z",
     "iopub.status.idle": "2025-09-13T16:49:23.420025Z",
     "shell.execute_reply": "2025-09-13T16:49:23.419350Z"
    },
    "papermill": {
     "duration": 1.893805,
     "end_time": "2025-09-13T16:49:23.421606",
     "exception": false,
     "start_time": "2025-09-13T16:49:21.527801",
     "status": "completed"
    },
    "tags": []
   },
   "outputs": [],
   "source": [
    "sample = pd.read_csv('/kaggle/input/playground-series-s5e9/sample_submission.csv')\n",
    "train = pd.read_csv('/kaggle/input/playground-series-s5e9/train.csv')\n",
    "test = pd.read_csv('/kaggle/input/playground-series-s5e9/test.csv')"
   ]
  },
  {
   "cell_type": "code",
   "execution_count": 3,
   "id": "23cda514",
   "metadata": {
    "execution": {
     "iopub.execute_input": "2025-09-13T16:49:23.431088Z",
     "iopub.status.busy": "2025-09-13T16:49:23.430798Z",
     "iopub.status.idle": "2025-09-13T16:49:23.458411Z",
     "shell.execute_reply": "2025-09-13T16:49:23.457577Z"
    },
    "papermill": {
     "duration": 0.03412,
     "end_time": "2025-09-13T16:49:23.459952",
     "exception": false,
     "start_time": "2025-09-13T16:49:23.425832",
     "status": "completed"
    },
    "tags": []
   },
   "outputs": [
    {
     "data": {
      "text/html": [
       "<div>\n",
       "<style scoped>\n",
       "    .dataframe tbody tr th:only-of-type {\n",
       "        vertical-align: middle;\n",
       "    }\n",
       "\n",
       "    .dataframe tbody tr th {\n",
       "        vertical-align: top;\n",
       "    }\n",
       "\n",
       "    .dataframe thead th {\n",
       "        text-align: right;\n",
       "    }\n",
       "</style>\n",
       "<table border=\"1\" class=\"dataframe\">\n",
       "  <thead>\n",
       "    <tr style=\"text-align: right;\">\n",
       "      <th></th>\n",
       "      <th>id</th>\n",
       "      <th>RhythmScore</th>\n",
       "      <th>AudioLoudness</th>\n",
       "      <th>VocalContent</th>\n",
       "      <th>AcousticQuality</th>\n",
       "      <th>InstrumentalScore</th>\n",
       "      <th>LivePerformanceLikelihood</th>\n",
       "      <th>MoodScore</th>\n",
       "      <th>TrackDurationMs</th>\n",
       "      <th>Energy</th>\n",
       "      <th>BeatsPerMinute</th>\n",
       "    </tr>\n",
       "  </thead>\n",
       "  <tbody>\n",
       "    <tr>\n",
       "      <th>0</th>\n",
       "      <td>0</td>\n",
       "      <td>0.603610</td>\n",
       "      <td>-7.636942</td>\n",
       "      <td>0.023500</td>\n",
       "      <td>0.000005</td>\n",
       "      <td>0.000001</td>\n",
       "      <td>0.051385</td>\n",
       "      <td>0.409866</td>\n",
       "      <td>290715.6450</td>\n",
       "      <td>0.826267</td>\n",
       "      <td>147.53020</td>\n",
       "    </tr>\n",
       "    <tr>\n",
       "      <th>1</th>\n",
       "      <td>1</td>\n",
       "      <td>0.639451</td>\n",
       "      <td>-16.267598</td>\n",
       "      <td>0.071520</td>\n",
       "      <td>0.444929</td>\n",
       "      <td>0.349414</td>\n",
       "      <td>0.170522</td>\n",
       "      <td>0.651010</td>\n",
       "      <td>164519.5174</td>\n",
       "      <td>0.145400</td>\n",
       "      <td>136.15963</td>\n",
       "    </tr>\n",
       "    <tr>\n",
       "      <th>2</th>\n",
       "      <td>2</td>\n",
       "      <td>0.514538</td>\n",
       "      <td>-15.953575</td>\n",
       "      <td>0.110715</td>\n",
       "      <td>0.173699</td>\n",
       "      <td>0.453814</td>\n",
       "      <td>0.029576</td>\n",
       "      <td>0.423865</td>\n",
       "      <td>174495.5667</td>\n",
       "      <td>0.624667</td>\n",
       "      <td>55.31989</td>\n",
       "    </tr>\n",
       "    <tr>\n",
       "      <th>3</th>\n",
       "      <td>3</td>\n",
       "      <td>0.734463</td>\n",
       "      <td>-1.357000</td>\n",
       "      <td>0.052965</td>\n",
       "      <td>0.001651</td>\n",
       "      <td>0.159717</td>\n",
       "      <td>0.086366</td>\n",
       "      <td>0.278745</td>\n",
       "      <td>225567.4651</td>\n",
       "      <td>0.487467</td>\n",
       "      <td>147.91212</td>\n",
       "    </tr>\n",
       "    <tr>\n",
       "      <th>4</th>\n",
       "      <td>4</td>\n",
       "      <td>0.532968</td>\n",
       "      <td>-13.056437</td>\n",
       "      <td>0.023500</td>\n",
       "      <td>0.068687</td>\n",
       "      <td>0.000001</td>\n",
       "      <td>0.331345</td>\n",
       "      <td>0.477769</td>\n",
       "      <td>213960.6789</td>\n",
       "      <td>0.947333</td>\n",
       "      <td>89.58511</td>\n",
       "    </tr>\n",
       "  </tbody>\n",
       "</table>\n",
       "</div>"
      ],
      "text/plain": [
       "   id  RhythmScore  AudioLoudness  VocalContent  AcousticQuality  \\\n",
       "0   0     0.603610      -7.636942      0.023500         0.000005   \n",
       "1   1     0.639451     -16.267598      0.071520         0.444929   \n",
       "2   2     0.514538     -15.953575      0.110715         0.173699   \n",
       "3   3     0.734463      -1.357000      0.052965         0.001651   \n",
       "4   4     0.532968     -13.056437      0.023500         0.068687   \n",
       "\n",
       "   InstrumentalScore  LivePerformanceLikelihood  MoodScore  TrackDurationMs  \\\n",
       "0           0.000001                   0.051385   0.409866      290715.6450   \n",
       "1           0.349414                   0.170522   0.651010      164519.5174   \n",
       "2           0.453814                   0.029576   0.423865      174495.5667   \n",
       "3           0.159717                   0.086366   0.278745      225567.4651   \n",
       "4           0.000001                   0.331345   0.477769      213960.6789   \n",
       "\n",
       "     Energy  BeatsPerMinute  \n",
       "0  0.826267       147.53020  \n",
       "1  0.145400       136.15963  \n",
       "2  0.624667        55.31989  \n",
       "3  0.487467       147.91212  \n",
       "4  0.947333        89.58511  "
      ]
     },
     "execution_count": 3,
     "metadata": {},
     "output_type": "execute_result"
    }
   ],
   "source": [
    "train.head()"
   ]
  },
  {
   "cell_type": "code",
   "execution_count": 4,
   "id": "7500068d",
   "metadata": {
    "execution": {
     "iopub.execute_input": "2025-09-13T16:49:23.469656Z",
     "iopub.status.busy": "2025-09-13T16:49:23.469382Z",
     "iopub.status.idle": "2025-09-13T16:49:23.476278Z",
     "shell.execute_reply": "2025-09-13T16:49:23.475415Z"
    },
    "papermill": {
     "duration": 0.013412,
     "end_time": "2025-09-13T16:49:23.477707",
     "exception": false,
     "start_time": "2025-09-13T16:49:23.464295",
     "status": "completed"
    },
    "tags": []
   },
   "outputs": [
    {
     "data": {
      "text/plain": [
       "Index(['id', 'RhythmScore', 'AudioLoudness', 'VocalContent', 'AcousticQuality',\n",
       "       'InstrumentalScore', 'LivePerformanceLikelihood', 'MoodScore',\n",
       "       'TrackDurationMs', 'Energy', 'BeatsPerMinute'],\n",
       "      dtype='object')"
      ]
     },
     "execution_count": 4,
     "metadata": {},
     "output_type": "execute_result"
    }
   ],
   "source": [
    "train.columns"
   ]
  },
  {
   "cell_type": "markdown",
   "id": "6c85e023",
   "metadata": {
    "papermill": {
     "duration": 0.003954,
     "end_time": "2025-09-13T16:49:23.486135",
     "exception": false,
     "start_time": "2025-09-13T16:49:23.482181",
     "status": "completed"
    },
    "tags": []
   },
   "source": [
    "# Data exploration 🔎\n",
    "\n",
    "Target value distribution looks kinda Gaussian, so I decided not to"
   ]
  },
  {
   "cell_type": "code",
   "execution_count": 5,
   "id": "7c073d56",
   "metadata": {
    "execution": {
     "iopub.execute_input": "2025-09-13T16:49:23.495418Z",
     "iopub.status.busy": "2025-09-13T16:49:23.495147Z",
     "iopub.status.idle": "2025-09-13T16:49:23.928516Z",
     "shell.execute_reply": "2025-09-13T16:49:23.927695Z"
    },
    "papermill": {
     "duration": 0.439721,
     "end_time": "2025-09-13T16:49:23.929952",
     "exception": false,
     "start_time": "2025-09-13T16:49:23.490231",
     "status": "completed"
    },
    "tags": []
   },
   "outputs": [
    {
     "data": {
      "text/plain": [
       "Text(0.5, 1.0, 'Histogram and mean')"
      ]
     },
     "execution_count": 5,
     "metadata": {},
     "output_type": "execute_result"
    },
    {
     "data": {
      "image/png": "[encoded data removed]",
      "text/plain": [
       "<Figure size 640x480 with 1 Axes>"
      ]
     },
     "metadata": {},
     "output_type": "display_data"
    }
   ],
   "source": [
    "plt.hist(train['BeatsPerMinute'], bins=20)\n",
    "mean_val = train['BeatsPerMinute'].mean()\n",
    "std = np.std(train['BeatsPerMinute'])\n",
    "plt.axvline(mean_val, color='salmon', linestyle='--', linewidth=2)\n",
    "plt.axvline(mean_val + 2.5 * std, color='salmon', linestyle='--', linewidth=2)\n",
    "plt.axvline(mean_val - 2.5 * std, color='salmon', linestyle='--', linewidth=2)\n",
    "plt.title('Histogram and mean')"
   ]
  },
  {
   "cell_type": "code",
   "execution_count": 6,
   "id": "dc9ae82d",
   "metadata": {
    "execution": {
     "iopub.execute_input": "2025-09-13T16:49:23.941458Z",
     "iopub.status.busy": "2025-09-13T16:49:23.940744Z",
     "iopub.status.idle": "2025-09-13T16:49:25.873476Z",
     "shell.execute_reply": "2025-09-13T16:49:25.872614Z"
    },
    "papermill": {
     "duration": 1.939844,
     "end_time": "2025-09-13T16:49:25.874957",
     "exception": false,
     "start_time": "2025-09-13T16:49:23.935113",
     "status": "completed"
    },
    "tags": []
   },
   "outputs": [
    {
     "data": {
      "text/plain": [
       "Text(0.5, 1.0, 'Boxplot (shows outliers)')"
      ]
     },
     "execution_count": 6,
     "metadata": {},
     "output_type": "execute_result"
    },
    {
     "data": {
      "image/png": "[encoded data removed]",
      "text/plain": [
       "<Figure size 640x480 with 1 Axes>"
      ]
     },
     "metadata": {},
     "output_type": "display_data"
    }
   ],
   "source": [
    "import seaborn as sns\n",
    "sns.boxplot(train['BeatsPerMinute'])\n",
    "plt.title('Boxplot (shows outliers)')"
   ]
  },
  {
   "cell_type": "markdown",
   "id": "9c4f8928",
   "metadata": {
    "papermill": {
     "duration": 0.004924,
     "end_time": "2025-09-13T16:49:25.886813",
     "exception": false,
     "start_time": "2025-09-13T16:49:25.881889",
     "status": "completed"
    },
    "tags": []
   },
   "source": [
    "# Removing Outliers 🧹\n",
    "\n",
    "Most of the data points lies inside of the range of box plot. That means the data outside is likely contains not much of a useful information. Lets clean that up"
   ]
  },
  {
   "cell_type": "code",
   "execution_count": 7,
   "id": "a549d0aa",
   "metadata": {
    "execution": {
     "iopub.execute_input": "2025-09-13T16:49:25.898343Z",
     "iopub.status.busy": "2025-09-13T16:49:25.897868Z",
     "iopub.status.idle": "2025-09-13T16:49:25.944730Z",
     "shell.execute_reply": "2025-09-13T16:49:25.943668Z"
    },
    "papermill": {
     "duration": 0.054296,
     "end_time": "2025-09-13T16:49:25.946185",
     "exception": false,
     "start_time": "2025-09-13T16:49:25.891889",
     "status": "completed"
    },
    "tags": []
   },
   "outputs": [
    {
     "name": "stdout",
     "output_type": "stream",
     "text": [
      "0.88% of original data was removed\n"
     ]
    }
   ],
   "source": [
    "upper_bound = 185\n",
    "lower_bound = 50\n",
    "\n",
    "len_before = len(train)\n",
    "train = train[(train['BeatsPerMinute'] > lower_bound) & (train['BeatsPerMinute'] < upper_bound)]\n",
    "len_after = len(train)\n",
    "\n",
    "print(f'{(1 - len_after/len_before) * 100:.2f}% of original data was removed')"
   ]
  },
  {
   "cell_type": "code",
   "execution_count": 8,
   "id": "dac4a2c0",
   "metadata": {
    "execution": {
     "iopub.execute_input": "2025-09-13T16:49:25.958056Z",
     "iopub.status.busy": "2025-09-13T16:49:25.957723Z",
     "iopub.status.idle": "2025-09-13T16:49:26.163948Z",
     "shell.execute_reply": "2025-09-13T16:49:26.163023Z"
    },
    "papermill": {
     "duration": 0.213738,
     "end_time": "2025-09-13T16:49:26.165271",
     "exception": false,
     "start_time": "2025-09-13T16:49:25.951533",
     "status": "completed"
    },
    "tags": []
   },
   "outputs": [
    {
     "data": {
      "text/plain": [
       "Text(0.5, 1.0, 'Boxplot of clean data')"
      ]
     },
     "execution_count": 8,
     "metadata": {},
     "output_type": "execute_result"
    },
    {
     "data": {
      "image/png": "[encoded data removed]",
      "text/plain": [
       "<Figure size 640x480 with 1 Axes>"
      ]
     },
     "metadata": {},
     "output_type": "display_data"
    }
   ],
   "source": [
    "sns.boxplot(train['BeatsPerMinute'])\n",
    "plt.title('Boxplot of clean data')"
   ]
  },
  {
   "cell_type": "code",
   "execution_count": 9,
   "id": "b4de41ff",
   "metadata": {
    "execution": {
     "iopub.execute_input": "2025-09-13T16:49:26.178207Z",
     "iopub.status.busy": "2025-09-13T16:49:26.177839Z",
     "iopub.status.idle": "2025-09-13T16:49:27.222755Z",
     "shell.execute_reply": "2025-09-13T16:49:27.222022Z"
    },
    "papermill": {
     "duration": 1.053321,
     "end_time": "2025-09-13T16:49:27.224394",
     "exception": false,
     "start_time": "2025-09-13T16:49:26.171073",
     "status": "completed"
    },
    "tags": []
   },
   "outputs": [],
   "source": [
    "from sklearn.metrics import mean_squared_error\n",
    "from sklearn.model_selection import train_test_split, GridSearchCV\n",
    "from sklearn.pipeline import make_pipeline\n",
    "from sklearn.preprocessing import StandardScaler, SplineTransformer\n",
    "from catboost import CatBoostRegressor"
   ]
  },
  {
   "cell_type": "code",
   "execution_count": 10,
   "id": "de1f2840",
   "metadata": {
    "execution": {
     "iopub.execute_input": "2025-09-13T16:49:27.237721Z",
     "iopub.status.busy": "2025-09-13T16:49:27.237201Z",
     "iopub.status.idle": "2025-09-13T16:49:27.266661Z",
     "shell.execute_reply": "2025-09-13T16:49:27.265762Z"
    },
    "papermill": {
     "duration": 0.038055,
     "end_time": "2025-09-13T16:49:27.268359",
     "exception": false,
     "start_time": "2025-09-13T16:49:27.230304",
     "status": "completed"
    },
    "tags": []
   },
   "outputs": [],
   "source": [
    "X, y = train.drop(['BeatsPerMinute'], axis=1), train['BeatsPerMinute']"
   ]
  },
  {
   "cell_type": "markdown",
   "id": "c55f40c1",
   "metadata": {
    "papermill": {
     "duration": 0.005691,
     "end_time": "2025-09-13T16:49:27.280037",
     "exception": false,
     "start_time": "2025-09-13T16:49:27.274346",
     "status": "completed"
    },
    "tags": []
   },
   "source": [
    "# Data augmentation 📊"
   ]
  },
  {
   "cell_type": "code",
   "execution_count": 11,
   "id": "0a50d699",
   "metadata": {
    "execution": {
     "iopub.execute_input": "2025-09-13T16:49:27.293503Z",
     "iopub.status.busy": "2025-09-13T16:49:27.293178Z",
     "iopub.status.idle": "2025-09-13T16:49:27.308559Z",
     "shell.execute_reply": "2025-09-13T16:49:27.307597Z"
    },
    "papermill": {
     "duration": 0.023925,
     "end_time": "2025-09-13T16:49:27.310103",
     "exception": false,
     "start_time": "2025-09-13T16:49:27.286178",
     "status": "completed"
    },
    "tags": []
   },
   "outputs": [
    {
     "data": {
      "text/html": [
       "<div>\n",
       "<style scoped>\n",
       "    .dataframe tbody tr th:only-of-type {\n",
       "        vertical-align: middle;\n",
       "    }\n",
       "\n",
       "    .dataframe tbody tr th {\n",
       "        vertical-align: top;\n",
       "    }\n",
       "\n",
       "    .dataframe thead th {\n",
       "        text-align: right;\n",
       "    }\n",
       "</style>\n",
       "<table border=\"1\" class=\"dataframe\">\n",
       "  <thead>\n",
       "    <tr style=\"text-align: right;\">\n",
       "      <th></th>\n",
       "      <th>id</th>\n",
       "      <th>RhythmScore</th>\n",
       "      <th>AudioLoudness</th>\n",
       "      <th>VocalContent</th>\n",
       "      <th>AcousticQuality</th>\n",
       "      <th>InstrumentalScore</th>\n",
       "      <th>LivePerformanceLikelihood</th>\n",
       "      <th>MoodScore</th>\n",
       "      <th>TrackDurationMs</th>\n",
       "      <th>Energy</th>\n",
       "    </tr>\n",
       "  </thead>\n",
       "  <tbody>\n",
       "    <tr>\n",
       "      <th>0</th>\n",
       "      <td>0</td>\n",
       "      <td>0.603610</td>\n",
       "      <td>-7.636942</td>\n",
       "      <td>0.023500</td>\n",
       "      <td>0.000005</td>\n",
       "      <td>0.000001</td>\n",
       "      <td>0.051385</td>\n",
       "      <td>0.409866</td>\n",
       "      <td>290715.6450</td>\n",
       "      <td>0.826267</td>\n",
       "    </tr>\n",
       "    <tr>\n",
       "      <th>1</th>\n",
       "      <td>1</td>\n",
       "      <td>0.639451</td>\n",
       "      <td>-16.267598</td>\n",
       "      <td>0.071520</td>\n",
       "      <td>0.444929</td>\n",
       "      <td>0.349414</td>\n",
       "      <td>0.170522</td>\n",
       "      <td>0.651010</td>\n",
       "      <td>164519.5174</td>\n",
       "      <td>0.145400</td>\n",
       "    </tr>\n",
       "    <tr>\n",
       "      <th>2</th>\n",
       "      <td>2</td>\n",
       "      <td>0.514538</td>\n",
       "      <td>-15.953575</td>\n",
       "      <td>0.110715</td>\n",
       "      <td>0.173699</td>\n",
       "      <td>0.453814</td>\n",
       "      <td>0.029576</td>\n",
       "      <td>0.423865</td>\n",
       "      <td>174495.5667</td>\n",
       "      <td>0.624667</td>\n",
       "    </tr>\n",
       "    <tr>\n",
       "      <th>3</th>\n",
       "      <td>3</td>\n",
       "      <td>0.734463</td>\n",
       "      <td>-1.357000</td>\n",
       "      <td>0.052965</td>\n",
       "      <td>0.001651</td>\n",
       "      <td>0.159717</td>\n",
       "      <td>0.086366</td>\n",
       "      <td>0.278745</td>\n",
       "      <td>225567.4651</td>\n",
       "      <td>0.487467</td>\n",
       "    </tr>\n",
       "    <tr>\n",
       "      <th>4</th>\n",
       "      <td>4</td>\n",
       "      <td>0.532968</td>\n",
       "      <td>-13.056437</td>\n",
       "      <td>0.023500</td>\n",
       "      <td>0.068687</td>\n",
       "      <td>0.000001</td>\n",
       "      <td>0.331345</td>\n",
       "      <td>0.477769</td>\n",
       "      <td>213960.6789</td>\n",
       "      <td>0.947333</td>\n",
       "    </tr>\n",
       "    <tr>\n",
       "      <th>...</th>\n",
       "      <td>...</td>\n",
       "      <td>...</td>\n",
       "      <td>...</td>\n",
       "      <td>...</td>\n",
       "      <td>...</td>\n",
       "      <td>...</td>\n",
       "      <td>...</td>\n",
       "      <td>...</td>\n",
       "      <td>...</td>\n",
       "      <td>...</td>\n",
       "    </tr>\n",
       "    <tr>\n",
       "      <th>524159</th>\n",
       "      <td>524159</td>\n",
       "      <td>0.796831</td>\n",
       "      <td>-13.405645</td>\n",
       "      <td>0.023500</td>\n",
       "      <td>0.504738</td>\n",
       "      <td>0.000001</td>\n",
       "      <td>0.191414</td>\n",
       "      <td>0.668079</td>\n",
       "      <td>135528.3189</td>\n",
       "      <td>0.004400</td>\n",
       "    </tr>\n",
       "    <tr>\n",
       "      <th>524160</th>\n",
       "      <td>524160</td>\n",
       "      <td>0.975000</td>\n",
       "      <td>-12.132914</td>\n",
       "      <td>0.077379</td>\n",
       "      <td>0.069462</td>\n",
       "      <td>0.262320</td>\n",
       "      <td>0.124818</td>\n",
       "      <td>0.288946</td>\n",
       "      <td>240709.3918</td>\n",
       "      <td>0.447067</td>\n",
       "    </tr>\n",
       "    <tr>\n",
       "      <th>524161</th>\n",
       "      <td>524161</td>\n",
       "      <td>0.542958</td>\n",
       "      <td>-1.357000</td>\n",
       "      <td>0.071390</td>\n",
       "      <td>0.168978</td>\n",
       "      <td>0.000001</td>\n",
       "      <td>0.313912</td>\n",
       "      <td>0.586868</td>\n",
       "      <td>344858.2321</td>\n",
       "      <td>0.718800</td>\n",
       "    </tr>\n",
       "    <tr>\n",
       "      <th>524162</th>\n",
       "      <td>524162</td>\n",
       "      <td>0.637192</td>\n",
       "      <td>-7.411331</td>\n",
       "      <td>0.113086</td>\n",
       "      <td>0.000005</td>\n",
       "      <td>0.061946</td>\n",
       "      <td>0.287963</td>\n",
       "      <td>0.368891</td>\n",
       "      <td>322710.3187</td>\n",
       "      <td>0.944267</td>\n",
       "    </tr>\n",
       "    <tr>\n",
       "      <th>524163</th>\n",
       "      <td>524163</td>\n",
       "      <td>0.776515</td>\n",
       "      <td>-5.484091</td>\n",
       "      <td>0.023500</td>\n",
       "      <td>0.271189</td>\n",
       "      <td>0.067338</td>\n",
       "      <td>0.339319</td>\n",
       "      <td>0.793487</td>\n",
       "      <td>313870.0566</td>\n",
       "      <td>0.223933</td>\n",
       "    </tr>\n",
       "  </tbody>\n",
       "</table>\n",
       "<p>519541 rows × 10 columns</p>\n",
       "</div>"
      ],
      "text/plain": [
       "            id  RhythmScore  AudioLoudness  VocalContent  AcousticQuality  \\\n",
       "0            0     0.603610      -7.636942      0.023500         0.000005   \n",
       "1            1     0.639451     -16.267598      0.071520         0.444929   \n",
       "2            2     0.514538     -15.953575      0.110715         0.173699   \n",
       "3            3     0.734463      -1.357000      0.052965         0.001651   \n",
       "4            4     0.532968     -13.056437      0.023500         0.068687   \n",
       "...        ...          ...            ...           ...              ...   \n",
       "524159  524159     0.796831     -13.405645      0.023500         0.504738   \n",
       "524160  524160     0.975000     -12.132914      0.077379         0.069462   \n",
       "524161  524161     0.542958      -1.357000      0.071390         0.168978   \n",
       "524162  524162     0.637192      -7.411331      0.113086         0.000005   \n",
       "524163  524163     0.776515      -5.484091      0.023500         0.271189   \n",
       "\n",
       "        InstrumentalScore  LivePerformanceLikelihood  MoodScore  \\\n",
       "0                0.000001                   0.051385   0.409866   \n",
       "1                0.349414                   0.170522   0.651010   \n",
       "2                0.453814                   0.029576   0.423865   \n",
       "3                0.159717                   0.086366   0.278745   \n",
       "4                0.000001                   0.331345   0.477769   \n",
       "...                   ...                        ...        ...   \n",
       "524159           0.000001                   0.191414   0.668079   \n",
       "524160           0.262320                   0.124818   0.288946   \n",
       "524161           0.000001                   0.313912   0.586868   \n",
       "524162           0.061946                   0.287963   0.368891   \n",
       "524163           0.067338                   0.339319   0.793487   \n",
       "\n",
       "        TrackDurationMs    Energy  \n",
       "0           290715.6450  0.826267  \n",
       "1           164519.5174  0.145400  \n",
       "2           174495.5667  0.624667  \n",
       "3           225567.4651  0.487467  \n",
       "4           213960.6789  0.947333  \n",
       "...                 ...       ...  \n",
       "524159      135528.3189  0.004400  \n",
       "524160      240709.3918  0.447067  \n",
       "524161      344858.2321  0.718800  \n",
       "524162      322710.3187  0.944267  \n",
       "524163      313870.0566  0.223933  \n",
       "\n",
       "[519541 rows x 10 columns]"
      ]
     },
     "execution_count": 11,
     "metadata": {},
     "output_type": "execute_result"
    }
   ],
   "source": [
    "X"
   ]
  },
  {
   "cell_type": "code",
   "execution_count": 12,
   "id": "cfca1658",
   "metadata": {
    "execution": {
     "iopub.execute_input": "2025-09-13T16:49:27.323654Z",
     "iopub.status.busy": "2025-09-13T16:49:27.323313Z",
     "iopub.status.idle": "2025-09-13T16:49:27.436995Z",
     "shell.execute_reply": "2025-09-13T16:49:27.436144Z"
    },
    "papermill": {
     "duration": 0.122394,
     "end_time": "2025-09-13T16:49:27.438648",
     "exception": false,
     "start_time": "2025-09-13T16:49:27.316254",
     "status": "completed"
    },
    "tags": []
   },
   "outputs": [],
   "source": [
    "X_train, X_val, y_train, y_val = train_test_split(X, y, test_size=0.15)"
   ]
  },
  {
   "cell_type": "markdown",
   "id": "16bba0e8",
   "metadata": {
    "papermill": {
     "duration": 0.005652,
     "end_time": "2025-09-13T16:49:27.450629",
     "exception": false,
     "start_time": "2025-09-13T16:49:27.444977",
     "status": "completed"
    },
    "tags": []
   },
   "source": [
    "# Model + Hyperparams optimization 📈"
   ]
  },
  {
   "cell_type": "code",
   "execution_count": 13,
   "id": "6afbc2ad",
   "metadata": {
    "execution": {
     "iopub.execute_input": "2025-09-13T16:49:27.463587Z",
     "iopub.status.busy": "2025-09-13T16:49:27.463251Z",
     "iopub.status.idle": "2025-09-13T23:37:04.777425Z",
     "shell.execute_reply": "2025-09-13T23:37:04.776150Z"
    },
    "papermill": {
     "duration": 24457.347342,
     "end_time": "2025-09-13T23:37:04.803778",
     "exception": false,
     "start_time": "2025-09-13T16:49:27.456436",
     "status": "completed"
    },
    "tags": []
   },
   "outputs": [
    {
     "name": "stdout",
     "output_type": "stream",
     "text": [
      "Fitting 5 folds for each of 81 candidates, totalling 405 fits\n",
      "[CV] END catboostregressor__depth=4, catboostregressor__l2_leaf_reg=1, catboostregressor__learning_rate=0.01, catboostregressor__n_estimators=100, catboostregressor__verbose=False; total time=  13.0s\n",
      "[CV] END catboostregressor__depth=4, catboostregressor__l2_leaf_reg=1, catboostregressor__learning_rate=0.01, catboostregressor__n_estimators=100, catboostregressor__verbose=False; total time=  12.8s\n",
      "[CV] END catboostregressor__depth=4, catboostregressor__l2_leaf_reg=1, catboostregressor__learning_rate=0.01, catboostregressor__n_estimators=100, catboostregressor__verbose=False; total time=  12.9s\n",
      "[CV] END catboostregressor__depth=4, catboostregressor__l2_leaf_reg=1, catboostregressor__learning_rate=0.01, catboostregressor__n_estimators=100, catboostregressor__verbose=False; total time=  13.0s\n",
      "[CV] END catboostregressor__depth=4, catboostregressor__l2_leaf_reg=1, catboostregressor__learning_rate=0.01, catboostregressor__n_estimators=100, catboostregressor__verbose=False; total time=  13.0s\n",
      "[CV] END catboostregressor__depth=4, catboostregressor__l2_leaf_reg=1, catboostregressor__learning_rate=0.01, catboostregressor__n_estimators=1000, catboostregressor__verbose=False; total time=  42.9s\n",
      "[CV] END catboostregressor__depth=4, catboostregressor__l2_leaf_reg=1, catboostregressor__learning_rate=0.01, catboostregressor__n_estimators=1000, catboostregressor__verbose=False; total time=  42.4s\n",
      "[CV] END catboostregressor__depth=4, catboostregressor__l2_leaf_reg=1, catboostregressor__learning_rate=0.01, catboostregressor__n_estimators=1000, catboostregressor__verbose=False; total time=  42.1s\n",
      "[CV] END catboostregressor__depth=4, catboostregressor__l2_leaf_reg=1, catboostregressor__learning_rate=0.01, catboostregressor__n_estimators=1000, catboostregressor__verbose=False; total time=  42.5s\n",
      "[CV] END catboostregressor__depth=4, catboostregressor__l2_leaf_reg=1, catboostregressor__learning_rate=0.01, catboostregressor__n_estimators=1000, catboostregressor__verbose=False; total time=  42.6s\n",
      "[CV] END catboostregressor__depth=4, catboostregressor__l2_leaf_reg=1, catboostregressor__learning_rate=0.01, catboostregressor__n_estimators=2000, catboostregressor__verbose=False; total time= 1.2min\n",
      "[CV] END catboostregressor__depth=4, catboostregressor__l2_leaf_reg=1, catboostregressor__learning_rate=0.01, catboostregressor__n_estimators=2000, catboostregressor__verbose=False; total time= 1.2min\n",
      "[CV] END catboostregressor__depth=4, catboostregressor__l2_leaf_reg=1, catboostregressor__learning_rate=0.01, catboostregressor__n_estimators=2000, catboostregressor__verbose=False; total time= 1.2min\n",
      "[CV] END catboostregressor__depth=4, catboostregressor__l2_leaf_reg=1, catboostregressor__learning_rate=0.01, catboostregressor__n_estimators=2000, catboostregressor__verbose=False; total time= 1.2min\n",
      "[CV] END catboostregressor__depth=4, catboostregressor__l2_leaf_reg=1, catboostregressor__learning_rate=0.01, catboostregressor__n_estimators=2000, catboostregressor__verbose=False; total time= 1.2min\n",
      "[CV] END catboostregressor__depth=4, catboostregressor__l2_leaf_reg=1, catboostregressor__learning_rate=0.05, catboostregressor__n_estimators=100, catboostregressor__verbose=False; total time=  12.8s\n",
      "[CV] END catboostregressor__depth=4, catboostregressor__l2_leaf_reg=1, catboostregressor__learning_rate=0.05, catboostregressor__n_estimators=100, catboostregressor__verbose=False; total time=  12.7s\n",
      "[CV] END catboostregressor__depth=4, catboostregressor__l2_leaf_reg=1, catboostregressor__learning_rate=0.05, catboostregressor__n_estimators=100, catboostregressor__verbose=False; total time=  12.9s\n",
      "[CV] END catboostregressor__depth=4, catboostregressor__l2_leaf_reg=1, catboostregressor__learning_rate=0.05, catboostregressor__n_estimators=100, catboostregressor__verbose=False; total time=  12.9s\n",
      "[CV] END catboostregressor__depth=4, catboostregressor__l2_leaf_reg=1, catboostregressor__learning_rate=0.05, catboostregressor__n_estimators=100, catboostregressor__verbose=False; total time=  12.9s\n",
      "[CV] END catboostregressor__depth=4, catboostregressor__l2_leaf_reg=1, catboostregressor__learning_rate=0.05, catboostregressor__n_estimators=1000, catboostregressor__verbose=False; total time=  41.4s\n",
      "[CV] END catboostregressor__depth=4, catboostregressor__l2_leaf_reg=1, catboostregressor__learning_rate=0.05, catboostregressor__n_estimators=1000, catboostregressor__verbose=False; total time=  40.8s\n",
      "[CV] END catboostregressor__depth=4, catboostregressor__l2_leaf_reg=1, catboostregressor__learning_rate=0.05, catboostregressor__n_estimators=1000, catboostregressor__verbose=False; total time=  40.6s\n",
      "[CV] END catboostregressor__depth=4, catboostregressor__l2_leaf_reg=1, catboostregressor__learning_rate=0.05, catboostregressor__n_estimators=1000, catboostregressor__verbose=False; total time=  41.1s\n",
      "[CV] END catboostregressor__depth=4, catboostregressor__l2_leaf_reg=1, catboostregressor__learning_rate=0.05, catboostregressor__n_estimators=1000, catboostregressor__verbose=False; total time=  40.9s\n",
      "[CV] END catboostregressor__depth=4, catboostregressor__l2_leaf_reg=1, catboostregressor__learning_rate=0.05, catboostregressor__n_estimators=2000, catboostregressor__verbose=False; total time= 1.2min\n",
      "[CV] END catboostregressor__depth=4, catboostregressor__l2_leaf_reg=1, catboostregressor__learning_rate=0.05, catboostregressor__n_estimators=2000, catboostregressor__verbose=False; total time= 1.2min\n",
      "[CV] END catboostregressor__depth=4, catboostregressor__l2_leaf_reg=1, catboostregressor__learning_rate=0.05, catboostregressor__n_estimators=2000, catboostregressor__verbose=False; total time= 1.2min\n",
      "[CV] END catboostregressor__depth=4, catboostregressor__l2_leaf_reg=1, catboostregressor__learning_rate=0.05, catboostregressor__n_estimators=2000, catboostregressor__verbose=False; total time= 1.2min\n",
      "[CV] END catboostregressor__depth=4, catboostregressor__l2_leaf_reg=1, catboostregressor__learning_rate=0.05, catboostregressor__n_estimators=2000, catboostregressor__verbose=False; total time= 1.2min\n",
      "[CV] END catboostregressor__depth=4, catboostregressor__l2_leaf_reg=1, catboostregressor__learning_rate=0.1, catboostregressor__n_estimators=100, catboostregressor__verbose=False; total time=  12.7s\n",
      "[CV] END catboostregressor__depth=4, catboostregressor__l2_leaf_reg=1, catboostregressor__learning_rate=0.1, catboostregressor__n_estimators=100, catboostregressor__verbose=False; total time=  12.8s\n",
      "[CV] END catboostregressor__depth=4, catboostregressor__l2_leaf_reg=1, catboostregressor__learning_rate=0.1, catboostregressor__n_estimators=100, catboostregressor__verbose=False; total time=  12.7s\n",
      "[CV] END catboostregressor__depth=4, catboostregressor__l2_leaf_reg=1, catboostregressor__learning_rate=0.1, catboostregressor__n_estimators=100, catboostregressor__verbose=False; total time=  12.9s\n",
      "[CV] END catboostregressor__depth=4, catboostregressor__l2_leaf_reg=1, catboostregressor__learning_rate=0.1, catboostregressor__n_estimators=100, catboostregressor__verbose=False; total time=  12.8s\n",
      "[CV] END catboostregressor__depth=4, catboostregressor__l2_leaf_reg=1, catboostregressor__learning_rate=0.1, catboostregressor__n_estimators=1000, catboostregressor__verbose=False; total time=  41.4s\n",
      "[CV] END catboostregressor__depth=4, catboostregressor__l2_leaf_reg=1, catboostregressor__learning_rate=0.1, catboostregressor__n_estimators=1000, catboostregressor__verbose=False; total time=  41.0s\n",
      "[CV] END catboostregressor__depth=4, catboostregressor__l2_leaf_reg=1, catboostregressor__learning_rate=0.1, catboostregressor__n_estimators=1000, catboostregressor__verbose=False; total time=  40.5s\n",
      "[CV] END catboostregressor__depth=4, catboostregressor__l2_leaf_reg=1, catboostregressor__learning_rate=0.1, catboostregressor__n_estimators=1000, catboostregressor__verbose=False; total time=  41.0s\n",
      "[CV] END catboostregressor__depth=4, catboostregressor__l2_leaf_reg=1, catboostregressor__learning_rate=0.1, catboostregressor__n_estimators=1000, catboostregressor__verbose=False; total time=  41.0s\n",
      "[CV] END catboostregressor__depth=4, catboostregressor__l2_leaf_reg=1, catboostregressor__learning_rate=0.1, catboostregressor__n_estimators=2000, catboostregressor__verbose=False; total time= 1.2min\n",
      "[CV] END catboostregressor__depth=4, catboostregressor__l2_leaf_reg=1, catboostregressor__learning_rate=0.1, catboostregressor__n_estimators=2000, catboostregressor__verbose=False; total time= 1.2min\n",
      "[CV] END catboostregressor__depth=4, catboostregressor__l2_leaf_reg=1, catboostregressor__learning_rate=0.1, catboostregressor__n_estimators=2000, catboostregressor__verbose=False; total time= 1.2min\n",
      "[CV] END catboostregressor__depth=4, catboostregressor__l2_leaf_reg=1, catboostregressor__learning_rate=0.1, catboostregressor__n_estimators=2000, catboostregressor__verbose=False; total time= 1.2min\n",
      "[CV] END catboostregressor__depth=4, catboostregressor__l2_leaf_reg=1, catboostregressor__learning_rate=0.1, catboostregressor__n_estimators=2000, catboostregressor__verbose=False; total time= 1.2min\n",
      "[CV] END catboostregressor__depth=4, catboostregressor__l2_leaf_reg=3, catboostregressor__learning_rate=0.01, catboostregressor__n_estimators=100, catboostregressor__verbose=False; total time=  12.9s\n",
      "[CV] END catboostregressor__depth=4, catboostregressor__l2_leaf_reg=3, catboostregressor__learning_rate=0.01, catboostregressor__n_estimators=100, catboostregressor__verbose=False; total time=  12.8s\n",
      "[CV] END catboostregressor__depth=4, catboostregressor__l2_leaf_reg=3, catboostregressor__learning_rate=0.01, catboostregressor__n_estimators=100, catboostregressor__verbose=False; total time=  12.7s\n",
      "[CV] END catboostregressor__depth=4, catboostregressor__l2_leaf_reg=3, catboostregressor__learning_rate=0.01, catboostregressor__n_estimators=100, catboostregressor__verbose=False; total time=  12.8s\n",
      "[CV] END catboostregressor__depth=4, catboostregressor__l2_leaf_reg=3, catboostregressor__learning_rate=0.01, catboostregressor__n_estimators=100, catboostregressor__verbose=False; total time=  12.9s\n",
      "[CV] END catboostregressor__depth=4, catboostregressor__l2_leaf_reg=3, catboostregressor__learning_rate=0.01, catboostregressor__n_estimators=1000, catboostregressor__verbose=False; total time=  42.8s\n",
      "[CV] END catboostregressor__depth=4, catboostregressor__l2_leaf_reg=3, catboostregressor__learning_rate=0.01, catboostregressor__n_estimators=1000, catboostregressor__verbose=False; total time=  42.5s\n",
      "[CV] END catboostregressor__depth=4, catboostregressor__l2_leaf_reg=3, catboostregressor__learning_rate=0.01, catboostregressor__n_estimators=1000, catboostregressor__verbose=False; total time=  42.2s\n",
      "[CV] END catboostregressor__depth=4, catboostregressor__l2_leaf_reg=3, catboostregressor__learning_rate=0.01, catboostregressor__n_estimators=1000, catboostregressor__verbose=False; total time=  42.5s\n",
      "[CV] END catboostregressor__depth=4, catboostregressor__l2_leaf_reg=3, catboostregressor__learning_rate=0.01, catboostregressor__n_estimators=1000, catboostregressor__verbose=False; total time=  42.7s\n",
      "[CV] END catboostregressor__depth=4, catboostregressor__l2_leaf_reg=3, catboostregressor__learning_rate=0.01, catboostregressor__n_estimators=2000, catboostregressor__verbose=False; total time= 1.2min\n",
      "[CV] END catboostregressor__depth=4, catboostregressor__l2_leaf_reg=3, catboostregressor__learning_rate=0.01, catboostregressor__n_estimators=2000, catboostregressor__verbose=False; total time= 1.2min\n",
      "[CV] END catboostregressor__depth=4, catboostregressor__l2_leaf_reg=3, catboostregressor__learning_rate=0.01, catboostregressor__n_estimators=2000, catboostregressor__verbose=False; total time= 1.2min\n",
      "[CV] END catboostregressor__depth=4, catboostregressor__l2_leaf_reg=3, catboostregressor__learning_rate=0.01, catboostregressor__n_estimators=2000, catboostregressor__verbose=False; total time= 1.2min\n",
      "[CV] END catboostregressor__depth=4, catboostregressor__l2_leaf_reg=3, catboostregressor__learning_rate=0.01, catboostregressor__n_estimators=2000, catboostregressor__verbose=False; total time= 1.2min\n",
      "[CV] END catboostregressor__depth=4, catboostregressor__l2_leaf_reg=3, catboostregressor__learning_rate=0.05, catboostregressor__n_estimators=100, catboostregressor__verbose=False; total time=  13.0s\n",
      "[CV] END catboostregressor__depth=4, catboostregressor__l2_leaf_reg=3, catboostregressor__learning_rate=0.05, catboostregressor__n_estimators=100, catboostregressor__verbose=False; total time=  12.8s\n",
      "[CV] END catboostregressor__depth=4, catboostregressor__l2_leaf_reg=3, catboostregressor__learning_rate=0.05, catboostregressor__n_estimators=100, catboostregressor__verbose=False; total time=  12.7s\n",
      "[CV] END catboostregressor__depth=4, catboostregressor__l2_leaf_reg=3, catboostregressor__learning_rate=0.05, catboostregressor__n_estimators=100, catboostregressor__verbose=False; total time=  12.9s\n",
      "[CV] END catboostregressor__depth=4, catboostregressor__l2_leaf_reg=3, catboostregressor__learning_rate=0.05, catboostregressor__n_estimators=100, catboostregressor__verbose=False; total time=  12.8s\n",
      "[CV] END catboostregressor__depth=4, catboostregressor__l2_leaf_reg=3, catboostregressor__learning_rate=0.05, catboostregressor__n_estimators=1000, catboostregressor__verbose=False; total time=  41.2s\n",
      "[CV] END catboostregressor__depth=4, catboostregressor__l2_leaf_reg=3, catboostregressor__learning_rate=0.05, catboostregressor__n_estimators=1000, catboostregressor__verbose=False; total time=  40.8s\n",
      "[CV] END catboostregressor__depth=4, catboostregressor__l2_leaf_reg=3, catboostregressor__learning_rate=0.05, catboostregressor__n_estimators=1000, catboostregressor__verbose=False; total time=  40.3s\n",
      "[CV] END catboostregressor__depth=4, catboostregressor__l2_leaf_reg=3, catboostregressor__learning_rate=0.05, catboostregressor__n_estimators=1000, catboostregressor__verbose=False; total time=  41.0s\n",
      "[CV] END catboostregressor__depth=4, catboostregressor__l2_leaf_reg=3, catboostregressor__learning_rate=0.05, catboostregressor__n_estimators=1000, catboostregressor__verbose=False; total time=  40.9s\n",
      "[CV] END catboostregressor__depth=4, catboostregressor__l2_leaf_reg=3, catboostregressor__learning_rate=0.05, catboostregressor__n_estimators=2000, catboostregressor__verbose=False; total time= 1.2min\n",
      "[CV] END catboostregressor__depth=4, catboostregressor__l2_leaf_reg=3, catboostregressor__learning_rate=0.05, catboostregressor__n_estimators=2000, catboostregressor__verbose=False; total time= 1.2min\n",
      "[CV] END catboostregressor__depth=4, catboostregressor__l2_leaf_reg=3, catboostregressor__learning_rate=0.05, catboostregressor__n_estimators=2000, catboostregressor__verbose=False; total time= 1.2min\n",
      "[CV] END catboostregressor__depth=4, catboostregressor__l2_leaf_reg=3, catboostregressor__learning_rate=0.05, catboostregressor__n_estimators=2000, catboostregressor__verbose=False; total time= 1.2min\n",
      "[CV] END catboostregressor__depth=4, catboostregressor__l2_leaf_reg=3, catboostregressor__learning_rate=0.05, catboostregressor__n_estimators=2000, catboostregressor__verbose=False; total time= 1.2min\n",
      "[CV] END catboostregressor__depth=4, catboostregressor__l2_leaf_reg=3, catboostregressor__learning_rate=0.1, catboostregressor__n_estimators=100, catboostregressor__verbose=False; total time=  12.9s\n",
      "[CV] END catboostregressor__depth=4, catboostregressor__l2_leaf_reg=3, catboostregressor__learning_rate=0.1, catboostregressor__n_estimators=100, catboostregressor__verbose=False; total time=  12.7s\n",
      "[CV] END catboostregressor__depth=4, catboostregressor__l2_leaf_reg=3, catboostregressor__learning_rate=0.1, catboostregressor__n_estimators=100, catboostregressor__verbose=False; total time=  12.6s\n",
      "[CV] END catboostregressor__depth=4, catboostregressor__l2_leaf_reg=3, catboostregressor__learning_rate=0.1, catboostregressor__n_estimators=100, catboostregressor__verbose=False; total time=  12.9s\n",
      "[CV] END catboostregressor__depth=4, catboostregressor__l2_leaf_reg=3, catboostregressor__learning_rate=0.1, catboostregressor__n_estimators=100, catboostregressor__verbose=False; total time=  12.9s\n",
      "[CV] END catboostregressor__depth=4, catboostregressor__l2_leaf_reg=3, catboostregressor__learning_rate=0.1, catboostregressor__n_estimators=1000, catboostregressor__verbose=False; total time=  41.1s\n",
      "[CV] END catboostregressor__depth=4, catboostregressor__l2_leaf_reg=3, catboostregressor__learning_rate=0.1, catboostregressor__n_estimators=1000, catboostregressor__verbose=False; total time=  40.9s\n",
      "[CV] END catboostregressor__depth=4, catboostregressor__l2_leaf_reg=3, catboostregressor__learning_rate=0.1, catboostregressor__n_estimators=1000, catboostregressor__verbose=False; total time=  40.6s\n",
      "[CV] END catboostregressor__depth=4, catboostregressor__l2_leaf_reg=3, catboostregressor__learning_rate=0.1, catboostregressor__n_estimators=1000, catboostregressor__verbose=False; total time=  40.9s\n",
      "[CV] END catboostregressor__depth=4, catboostregressor__l2_leaf_reg=3, catboostregressor__learning_rate=0.1, catboostregressor__n_estimators=1000, catboostregressor__verbose=False; total time=  40.9s\n",
      "[CV] END catboostregressor__depth=4, catboostregressor__l2_leaf_reg=3, catboostregressor__learning_rate=0.1, catboostregressor__n_estimators=2000, catboostregressor__verbose=False; total time= 1.2min\n",
      "[CV] END catboostregressor__depth=4, catboostregressor__l2_leaf_reg=3, catboostregressor__learning_rate=0.1, catboostregressor__n_estimators=2000, catboostregressor__verbose=False; total time= 1.2min\n",
      "[CV] END catboostregressor__depth=4, catboostregressor__l2_leaf_reg=3, catboostregressor__learning_rate=0.1, catboostregressor__n_estimators=2000, catboostregressor__verbose=False; total time= 1.2min\n",
      "[CV] END catboostregressor__depth=4, catboostregressor__l2_leaf_reg=3, catboostregressor__learning_rate=0.1, catboostregressor__n_estimators=2000, catboostregressor__verbose=False; total time= 1.2min\n",
      "[CV] END catboostregressor__depth=4, catboostregressor__l2_leaf_reg=3, catboostregressor__learning_rate=0.1, catboostregressor__n_estimators=2000, catboostregressor__verbose=False; total time= 1.2min\n",
      "[CV] END catboostregressor__depth=4, catboostregressor__l2_leaf_reg=5, catboostregressor__learning_rate=0.01, catboostregressor__n_estimators=100, catboostregressor__verbose=False; total time=  12.9s\n",
      "[CV] END catboostregressor__depth=4, catboostregressor__l2_leaf_reg=5, catboostregressor__learning_rate=0.01, catboostregressor__n_estimators=100, catboostregressor__verbose=False; total time=  12.6s\n",
      "[CV] END catboostregressor__depth=4, catboostregressor__l2_leaf_reg=5, catboostregressor__learning_rate=0.01, catboostregressor__n_estimators=100, catboostregressor__verbose=False; total time=  12.8s\n",
      "[CV] END catboostregressor__depth=4, catboostregressor__l2_leaf_reg=5, catboostregressor__learning_rate=0.01, catboostregressor__n_estimators=100, catboostregressor__verbose=False; total time=  12.8s\n",
      "[CV] END catboostregressor__depth=4, catboostregressor__l2_leaf_reg=5, catboostregressor__learning_rate=0.01, catboostregressor__n_estimators=100, catboostregressor__verbose=False; total time=  12.8s\n",
      "[CV] END catboostregressor__depth=4, catboostregressor__l2_leaf_reg=5, catboostregressor__learning_rate=0.01, catboostregressor__n_estimators=1000, catboostregressor__verbose=False; total time=  42.6s\n",
      "[CV] END catboostregressor__depth=4, catboostregressor__l2_leaf_reg=5, catboostregressor__learning_rate=0.01, catboostregressor__n_estimators=1000, catboostregressor__verbose=False; total time=  42.4s\n",
      "[CV] END catboostregressor__depth=4, catboostregressor__l2_leaf_reg=5, catboostregressor__learning_rate=0.01, catboostregressor__n_estimators=1000, catboostregressor__verbose=False; total time=  42.0s\n",
      "[CV] END catboostregressor__depth=4, catboostregressor__l2_leaf_reg=5, catboostregressor__learning_rate=0.01, catboostregressor__n_estimators=1000, catboostregressor__verbose=False; total time=  42.5s\n",
      "[CV] END catboostregressor__depth=4, catboostregressor__l2_leaf_reg=5, catboostregressor__learning_rate=0.01, catboostregressor__n_estimators=1000, catboostregressor__verbose=False; total time=  42.4s\n",
      "[CV] END catboostregressor__depth=4, catboostregressor__l2_leaf_reg=5, catboostregressor__learning_rate=0.01, catboostregressor__n_estimators=2000, catboostregressor__verbose=False; total time= 1.2min\n",
      "[CV] END catboostregressor__depth=4, catboostregressor__l2_leaf_reg=5, catboostregressor__learning_rate=0.01, catboostregressor__n_estimators=2000, catboostregressor__verbose=False; total time= 1.2min\n",
      "[CV] END catboostregressor__depth=4, catboostregressor__l2_leaf_reg=5, catboostregressor__learning_rate=0.01, catboostregressor__n_estimators=2000, catboostregressor__verbose=False; total time= 1.2min\n",
      "[CV] END catboostregressor__depth=4, catboostregressor__l2_leaf_reg=5, catboostregressor__learning_rate=0.01, catboostregressor__n_estimators=2000, catboostregressor__verbose=False; total time= 1.2min\n",
      "[CV] END catboostregressor__depth=4, catboostregressor__l2_leaf_reg=5, catboostregressor__learning_rate=0.01, catboostregressor__n_estimators=2000, catboostregressor__verbose=False; total time= 1.2min\n",
      "[CV] END catboostregressor__depth=4, catboostregressor__l2_leaf_reg=5, catboostregressor__learning_rate=0.05, catboostregressor__n_estimators=100, catboostregressor__verbose=False; total time=  12.8s\n",
      "[CV] END catboostregressor__depth=4, catboostregressor__l2_leaf_reg=5, catboostregressor__learning_rate=0.05, catboostregressor__n_estimators=100, catboostregressor__verbose=False; total time=  12.7s\n",
      "[CV] END catboostregressor__depth=4, catboostregressor__l2_leaf_reg=5, catboostregressor__learning_rate=0.05, catboostregressor__n_estimators=100, catboostregressor__verbose=False; total time=  12.9s\n",
      "[CV] END catboostregressor__depth=4, catboostregressor__l2_leaf_reg=5, catboostregressor__learning_rate=0.05, catboostregressor__n_estimators=100, catboostregressor__verbose=False; total time=  12.9s\n",
      "[CV] END catboostregressor__depth=4, catboostregressor__l2_leaf_reg=5, catboostregressor__learning_rate=0.05, catboostregressor__n_estimators=100, catboostregressor__verbose=False; total time=  12.7s\n",
      "[CV] END catboostregressor__depth=4, catboostregressor__l2_leaf_reg=5, catboostregressor__learning_rate=0.05, catboostregressor__n_estimators=1000, catboostregressor__verbose=False; total time=  41.5s\n",
      "[CV] END catboostregressor__depth=4, catboostregressor__l2_leaf_reg=5, catboostregressor__learning_rate=0.05, catboostregressor__n_estimators=1000, catboostregressor__verbose=False; total time=  40.8s\n",
      "[CV] END catboostregressor__depth=4, catboostregressor__l2_leaf_reg=5, catboostregressor__learning_rate=0.05, catboostregressor__n_estimators=1000, catboostregressor__verbose=False; total time=  40.6s\n",
      "[CV] END catboostregressor__depth=4, catboostregressor__l2_leaf_reg=5, catboostregressor__learning_rate=0.05, catboostregressor__n_estimators=1000, catboostregressor__verbose=False; total time=  41.1s\n",
      "[CV] END catboostregressor__depth=4, catboostregressor__l2_leaf_reg=5, catboostregressor__learning_rate=0.05, catboostregressor__n_estimators=1000, catboostregressor__verbose=False; total time=  41.0s\n",
      "[CV] END catboostregressor__depth=4, catboostregressor__l2_leaf_reg=5, catboostregressor__learning_rate=0.05, catboostregressor__n_estimators=2000, catboostregressor__verbose=False; total time= 1.2min\n",
      "[CV] END catboostregressor__depth=4, catboostregressor__l2_leaf_reg=5, catboostregressor__learning_rate=0.05, catboostregressor__n_estimators=2000, catboostregressor__verbose=False; total time= 1.2min\n",
      "[CV] END catboostregressor__depth=4, catboostregressor__l2_leaf_reg=5, catboostregressor__learning_rate=0.05, catboostregressor__n_estimators=2000, catboostregressor__verbose=False; total time= 1.2min\n",
      "[CV] END catboostregressor__depth=4, catboostregressor__l2_leaf_reg=5, catboostregressor__learning_rate=0.05, catboostregressor__n_estimators=2000, catboostregressor__verbose=False; total time= 1.2min\n",
      "[CV] END catboostregressor__depth=4, catboostregressor__l2_leaf_reg=5, catboostregressor__learning_rate=0.05, catboostregressor__n_estimators=2000, catboostregressor__verbose=False; total time= 1.2min\n",
      "[CV] END catboostregressor__depth=4, catboostregressor__l2_leaf_reg=5, catboostregressor__learning_rate=0.1, catboostregressor__n_estimators=100, catboostregressor__verbose=False; total time=  12.8s\n",
      "[CV] END catboostregressor__depth=4, catboostregressor__l2_leaf_reg=5, catboostregressor__learning_rate=0.1, catboostregressor__n_estimators=100, catboostregressor__verbose=False; total time=  12.7s\n",
      "[CV] END catboostregressor__depth=4, catboostregressor__l2_leaf_reg=5, catboostregressor__learning_rate=0.1, catboostregressor__n_estimators=100, catboostregressor__verbose=False; total time=  12.6s\n",
      "[CV] END catboostregressor__depth=4, catboostregressor__l2_leaf_reg=5, catboostregressor__learning_rate=0.1, catboostregressor__n_estimators=100, catboostregressor__verbose=False; total time=  12.9s\n",
      "[CV] END catboostregressor__depth=4, catboostregressor__l2_leaf_reg=5, catboostregressor__learning_rate=0.1, catboostregressor__n_estimators=100, catboostregressor__verbose=False; total time=  12.8s\n",
      "[CV] END catboostregressor__depth=4, catboostregressor__l2_leaf_reg=5, catboostregressor__learning_rate=0.1, catboostregressor__n_estimators=1000, catboostregressor__verbose=False; total time=  41.2s\n",
      "[CV] END catboostregressor__depth=4, catboostregressor__l2_leaf_reg=5, catboostregressor__learning_rate=0.1, catboostregressor__n_estimators=1000, catboostregressor__verbose=False; total time=  41.0s\n",
      "[CV] END catboostregressor__depth=4, catboostregressor__l2_leaf_reg=5, catboostregressor__learning_rate=0.1, catboostregressor__n_estimators=1000, catboostregressor__verbose=False; total time=  40.7s\n",
      "[CV] END catboostregressor__depth=4, catboostregressor__l2_leaf_reg=5, catboostregressor__learning_rate=0.1, catboostregressor__n_estimators=1000, catboostregressor__verbose=False; total time=  41.0s\n",
      "[CV] END catboostregressor__depth=4, catboostregressor__l2_leaf_reg=5, catboostregressor__learning_rate=0.1, catboostregressor__n_estimators=1000, catboostregressor__verbose=False; total time=  41.0s\n",
      "[CV] END catboostregressor__depth=4, catboostregressor__l2_leaf_reg=5, catboostregressor__learning_rate=0.1, catboostregressor__n_estimators=2000, catboostregressor__verbose=False; total time= 1.2min\n",
      "[CV] END catboostregressor__depth=4, catboostregressor__l2_leaf_reg=5, catboostregressor__learning_rate=0.1, catboostregressor__n_estimators=2000, catboostregressor__verbose=False; total time= 1.2min\n",
      "[CV] END catboostregressor__depth=4, catboostregressor__l2_leaf_reg=5, catboostregressor__learning_rate=0.1, catboostregressor__n_estimators=2000, catboostregressor__verbose=False; total time= 1.2min\n",
      "[CV] END catboostregressor__depth=4, catboostregressor__l2_leaf_reg=5, catboostregressor__learning_rate=0.1, catboostregressor__n_estimators=2000, catboostregressor__verbose=False; total time= 1.2min\n",
      "[CV] END catboostregressor__depth=4, catboostregressor__l2_leaf_reg=5, catboostregressor__learning_rate=0.1, catboostregressor__n_estimators=2000, catboostregressor__verbose=False; total time= 1.2min\n",
      "[CV] END catboostregressor__depth=6, catboostregressor__l2_leaf_reg=1, catboostregressor__learning_rate=0.01, catboostregressor__n_estimators=100, catboostregressor__verbose=False; total time=  14.2s\n",
      "[CV] END catboostregressor__depth=6, catboostregressor__l2_leaf_reg=1, catboostregressor__learning_rate=0.01, catboostregressor__n_estimators=100, catboostregressor__verbose=False; total time=  14.1s\n",
      "[CV] END catboostregressor__depth=6, catboostregressor__l2_leaf_reg=1, catboostregressor__learning_rate=0.01, catboostregressor__n_estimators=100, catboostregressor__verbose=False; total time=  14.0s\n",
      "[CV] END catboostregressor__depth=6, catboostregressor__l2_leaf_reg=1, catboostregressor__learning_rate=0.01, catboostregressor__n_estimators=100, catboostregressor__verbose=False; total time=  14.0s\n",
      "[CV] END catboostregressor__depth=6, catboostregressor__l2_leaf_reg=1, catboostregressor__learning_rate=0.01, catboostregressor__n_estimators=100, catboostregressor__verbose=False; total time=  14.2s\n",
      "[CV] END catboostregressor__depth=6, catboostregressor__l2_leaf_reg=1, catboostregressor__learning_rate=0.01, catboostregressor__n_estimators=1000, catboostregressor__verbose=False; total time=  55.5s\n",
      "[CV] END catboostregressor__depth=6, catboostregressor__l2_leaf_reg=1, catboostregressor__learning_rate=0.01, catboostregressor__n_estimators=1000, catboostregressor__verbose=False; total time=  55.1s\n",
      "[CV] END catboostregressor__depth=6, catboostregressor__l2_leaf_reg=1, catboostregressor__learning_rate=0.01, catboostregressor__n_estimators=1000, catboostregressor__verbose=False; total time=  54.8s\n",
      "[CV] END catboostregressor__depth=6, catboostregressor__l2_leaf_reg=1, catboostregressor__learning_rate=0.01, catboostregressor__n_estimators=1000, catboostregressor__verbose=False; total time=  55.1s\n",
      "[CV] END catboostregressor__depth=6, catboostregressor__l2_leaf_reg=1, catboostregressor__learning_rate=0.01, catboostregressor__n_estimators=1000, catboostregressor__verbose=False; total time=  55.3s\n",
      "[CV] END catboostregressor__depth=6, catboostregressor__l2_leaf_reg=1, catboostregressor__learning_rate=0.01, catboostregressor__n_estimators=2000, catboostregressor__verbose=False; total time= 1.6min\n",
      "[CV] END catboostregressor__depth=6, catboostregressor__l2_leaf_reg=1, catboostregressor__learning_rate=0.01, catboostregressor__n_estimators=2000, catboostregressor__verbose=False; total time= 1.6min\n",
      "[CV] END catboostregressor__depth=6, catboostregressor__l2_leaf_reg=1, catboostregressor__learning_rate=0.01, catboostregressor__n_estimators=2000, catboostregressor__verbose=False; total time= 1.6min\n",
      "[CV] END catboostregressor__depth=6, catboostregressor__l2_leaf_reg=1, catboostregressor__learning_rate=0.01, catboostregressor__n_estimators=2000, catboostregressor__verbose=False; total time= 1.6min\n",
      "[CV] END catboostregressor__depth=6, catboostregressor__l2_leaf_reg=1, catboostregressor__learning_rate=0.01, catboostregressor__n_estimators=2000, catboostregressor__verbose=False; total time= 1.6min\n",
      "[CV] END catboostregressor__depth=6, catboostregressor__l2_leaf_reg=1, catboostregressor__learning_rate=0.05, catboostregressor__n_estimators=100, catboostregressor__verbose=False; total time=  14.1s\n",
      "[CV] END catboostregressor__depth=6, catboostregressor__l2_leaf_reg=1, catboostregressor__learning_rate=0.05, catboostregressor__n_estimators=100, catboostregressor__verbose=False; total time=  14.0s\n",
      "[CV] END catboostregressor__depth=6, catboostregressor__l2_leaf_reg=1, catboostregressor__learning_rate=0.05, catboostregressor__n_estimators=100, catboostregressor__verbose=False; total time=  13.9s\n",
      "[CV] END catboostregressor__depth=6, catboostregressor__l2_leaf_reg=1, catboostregressor__learning_rate=0.05, catboostregressor__n_estimators=100, catboostregressor__verbose=False; total time=  14.1s\n",
      "[CV] END catboostregressor__depth=6, catboostregressor__l2_leaf_reg=1, catboostregressor__learning_rate=0.05, catboostregressor__n_estimators=100, catboostregressor__verbose=False; total time=  13.9s\n",
      "[CV] END catboostregressor__depth=6, catboostregressor__l2_leaf_reg=1, catboostregressor__learning_rate=0.05, catboostregressor__n_estimators=1000, catboostregressor__verbose=False; total time=  53.5s\n",
      "[CV] END catboostregressor__depth=6, catboostregressor__l2_leaf_reg=1, catboostregressor__learning_rate=0.05, catboostregressor__n_estimators=1000, catboostregressor__verbose=False; total time=  52.9s\n",
      "[CV] END catboostregressor__depth=6, catboostregressor__l2_leaf_reg=1, catboostregressor__learning_rate=0.05, catboostregressor__n_estimators=1000, catboostregressor__verbose=False; total time=  52.7s\n",
      "[CV] END catboostregressor__depth=6, catboostregressor__l2_leaf_reg=1, catboostregressor__learning_rate=0.05, catboostregressor__n_estimators=1000, catboostregressor__verbose=False; total time=  53.0s\n",
      "[CV] END catboostregressor__depth=6, catboostregressor__l2_leaf_reg=1, catboostregressor__learning_rate=0.05, catboostregressor__n_estimators=1000, catboostregressor__verbose=False; total time=  52.8s\n",
      "[CV] END catboostregressor__depth=6, catboostregressor__l2_leaf_reg=1, catboostregressor__learning_rate=0.05, catboostregressor__n_estimators=2000, catboostregressor__verbose=False; total time= 1.6min\n",
      "[CV] END catboostregressor__depth=6, catboostregressor__l2_leaf_reg=1, catboostregressor__learning_rate=0.05, catboostregressor__n_estimators=2000, catboostregressor__verbose=False; total time= 1.6min\n",
      "[CV] END catboostregressor__depth=6, catboostregressor__l2_leaf_reg=1, catboostregressor__learning_rate=0.05, catboostregressor__n_estimators=2000, catboostregressor__verbose=False; total time= 1.6min\n",
      "[CV] END catboostregressor__depth=6, catboostregressor__l2_leaf_reg=1, catboostregressor__learning_rate=0.05, catboostregressor__n_estimators=2000, catboostregressor__verbose=False; total time= 1.6min\n",
      "[CV] END catboostregressor__depth=6, catboostregressor__l2_leaf_reg=1, catboostregressor__learning_rate=0.05, catboostregressor__n_estimators=2000, catboostregressor__verbose=False; total time= 1.6min\n",
      "[CV] END catboostregressor__depth=6, catboostregressor__l2_leaf_reg=1, catboostregressor__learning_rate=0.1, catboostregressor__n_estimators=100, catboostregressor__verbose=False; total time=  14.0s\n",
      "[CV] END catboostregressor__depth=6, catboostregressor__l2_leaf_reg=1, catboostregressor__learning_rate=0.1, catboostregressor__n_estimators=100, catboostregressor__verbose=False; total time=  13.8s\n",
      "[CV] END catboostregressor__depth=6, catboostregressor__l2_leaf_reg=1, catboostregressor__learning_rate=0.1, catboostregressor__n_estimators=100, catboostregressor__verbose=False; total time=  14.0s\n",
      "[CV] END catboostregressor__depth=6, catboostregressor__l2_leaf_reg=1, catboostregressor__learning_rate=0.1, catboostregressor__n_estimators=100, catboostregressor__verbose=False; total time=  14.1s\n",
      "[CV] END catboostregressor__depth=6, catboostregressor__l2_leaf_reg=1, catboostregressor__learning_rate=0.1, catboostregressor__n_estimators=100, catboostregressor__verbose=False; total time=  14.1s\n",
      "[CV] END catboostregressor__depth=6, catboostregressor__l2_leaf_reg=1, catboostregressor__learning_rate=0.1, catboostregressor__n_estimators=1000, catboostregressor__verbose=False; total time=  53.1s\n",
      "[CV] END catboostregressor__depth=6, catboostregressor__l2_leaf_reg=1, catboostregressor__learning_rate=0.1, catboostregressor__n_estimators=1000, catboostregressor__verbose=False; total time=  52.9s\n",
      "[CV] END catboostregressor__depth=6, catboostregressor__l2_leaf_reg=1, catboostregressor__learning_rate=0.1, catboostregressor__n_estimators=1000, catboostregressor__verbose=False; total time=  52.6s\n",
      "[CV] END catboostregressor__depth=6, catboostregressor__l2_leaf_reg=1, catboostregressor__learning_rate=0.1, catboostregressor__n_estimators=1000, catboostregressor__verbose=False; total time=  53.0s\n",
      "[CV] END catboostregressor__depth=6, catboostregressor__l2_leaf_reg=1, catboostregressor__learning_rate=0.1, catboostregressor__n_estimators=1000, catboostregressor__verbose=False; total time=  53.2s\n",
      "[CV] END catboostregressor__depth=6, catboostregressor__l2_leaf_reg=1, catboostregressor__learning_rate=0.1, catboostregressor__n_estimators=2000, catboostregressor__verbose=False; total time= 1.6min\n",
      "[CV] END catboostregressor__depth=6, catboostregressor__l2_leaf_reg=1, catboostregressor__learning_rate=0.1, catboostregressor__n_estimators=2000, catboostregressor__verbose=False; total time= 1.6min\n",
      "[CV] END catboostregressor__depth=6, catboostregressor__l2_leaf_reg=1, catboostregressor__learning_rate=0.1, catboostregressor__n_estimators=2000, catboostregressor__verbose=False; total time= 1.6min\n",
      "[CV] END catboostregressor__depth=6, catboostregressor__l2_leaf_reg=1, catboostregressor__learning_rate=0.1, catboostregressor__n_estimators=2000, catboostregressor__verbose=False; total time= 1.6min\n",
      "[CV] END catboostregressor__depth=6, catboostregressor__l2_leaf_reg=1, catboostregressor__learning_rate=0.1, catboostregressor__n_estimators=2000, catboostregressor__verbose=False; total time= 1.6min\n",
      "[CV] END catboostregressor__depth=6, catboostregressor__l2_leaf_reg=3, catboostregressor__learning_rate=0.01, catboostregressor__n_estimators=100, catboostregressor__verbose=False; total time=  14.3s\n",
      "[CV] END catboostregressor__depth=6, catboostregressor__l2_leaf_reg=3, catboostregressor__learning_rate=0.01, catboostregressor__n_estimators=100, catboostregressor__verbose=False; total time=  14.3s\n",
      "[CV] END catboostregressor__depth=6, catboostregressor__l2_leaf_reg=3, catboostregressor__learning_rate=0.01, catboostregressor__n_estimators=100, catboostregressor__verbose=False; total time=  14.3s\n",
      "[CV] END catboostregressor__depth=6, catboostregressor__l2_leaf_reg=3, catboostregressor__learning_rate=0.01, catboostregressor__n_estimators=100, catboostregressor__verbose=False; total time=  14.3s\n",
      "[CV] END catboostregressor__depth=6, catboostregressor__l2_leaf_reg=3, catboostregressor__learning_rate=0.01, catboostregressor__n_estimators=100, catboostregressor__verbose=False; total time=  14.2s\n",
      "[CV] END catboostregressor__depth=6, catboostregressor__l2_leaf_reg=3, catboostregressor__learning_rate=0.01, catboostregressor__n_estimators=1000, catboostregressor__verbose=False; total time=  55.8s\n",
      "[CV] END catboostregressor__depth=6, catboostregressor__l2_leaf_reg=3, catboostregressor__learning_rate=0.01, catboostregressor__n_estimators=1000, catboostregressor__verbose=False; total time=  55.1s\n",
      "[CV] END catboostregressor__depth=6, catboostregressor__l2_leaf_reg=3, catboostregressor__learning_rate=0.01, catboostregressor__n_estimators=1000, catboostregressor__verbose=False; total time=  54.8s\n",
      "[CV] END catboostregressor__depth=6, catboostregressor__l2_leaf_reg=3, catboostregressor__learning_rate=0.01, catboostregressor__n_estimators=1000, catboostregressor__verbose=False; total time=  55.2s\n",
      "[CV] END catboostregressor__depth=6, catboostregressor__l2_leaf_reg=3, catboostregressor__learning_rate=0.01, catboostregressor__n_estimators=1000, catboostregressor__verbose=False; total time=  55.5s\n",
      "[CV] END catboostregressor__depth=6, catboostregressor__l2_leaf_reg=3, catboostregressor__learning_rate=0.01, catboostregressor__n_estimators=2000, catboostregressor__verbose=False; total time= 1.6min\n",
      "[CV] END catboostregressor__depth=6, catboostregressor__l2_leaf_reg=3, catboostregressor__learning_rate=0.01, catboostregressor__n_estimators=2000, catboostregressor__verbose=False; total time= 1.6min\n",
      "[CV] END catboostregressor__depth=6, catboostregressor__l2_leaf_reg=3, catboostregressor__learning_rate=0.01, catboostregressor__n_estimators=2000, catboostregressor__verbose=False; total time= 1.6min\n",
      "[CV] END catboostregressor__depth=6, catboostregressor__l2_leaf_reg=3, catboostregressor__learning_rate=0.01, catboostregressor__n_estimators=2000, catboostregressor__verbose=False; total time= 1.6min\n",
      "[CV] END catboostregressor__depth=6, catboostregressor__l2_leaf_reg=3, catboostregressor__learning_rate=0.01, catboostregressor__n_estimators=2000, catboostregressor__verbose=False; total time= 1.6min\n",
      "[CV] END catboostregressor__depth=6, catboostregressor__l2_leaf_reg=3, catboostregressor__learning_rate=0.05, catboostregressor__n_estimators=100, catboostregressor__verbose=False; total time=  14.2s\n",
      "[CV] END catboostregressor__depth=6, catboostregressor__l2_leaf_reg=3, catboostregressor__learning_rate=0.05, catboostregressor__n_estimators=100, catboostregressor__verbose=False; total time=  14.2s\n",
      "[CV] END catboostregressor__depth=6, catboostregressor__l2_leaf_reg=3, catboostregressor__learning_rate=0.05, catboostregressor__n_estimators=100, catboostregressor__verbose=False; total time=  14.0s\n",
      "[CV] END catboostregressor__depth=6, catboostregressor__l2_leaf_reg=3, catboostregressor__learning_rate=0.05, catboostregressor__n_estimators=100, catboostregressor__verbose=False; total time=  14.2s\n",
      "[CV] END catboostregressor__depth=6, catboostregressor__l2_leaf_reg=3, catboostregressor__learning_rate=0.05, catboostregressor__n_estimators=100, catboostregressor__verbose=False; total time=  14.2s\n",
      "[CV] END catboostregressor__depth=6, catboostregressor__l2_leaf_reg=3, catboostregressor__learning_rate=0.05, catboostregressor__n_estimators=1000, catboostregressor__verbose=False; total time=  53.2s\n",
      "[CV] END catboostregressor__depth=6, catboostregressor__l2_leaf_reg=3, catboostregressor__learning_rate=0.05, catboostregressor__n_estimators=1000, catboostregressor__verbose=False; total time=  52.8s\n",
      "[CV] END catboostregressor__depth=6, catboostregressor__l2_leaf_reg=3, catboostregressor__learning_rate=0.05, catboostregressor__n_estimators=1000, catboostregressor__verbose=False; total time=  52.5s\n",
      "[CV] END catboostregressor__depth=6, catboostregressor__l2_leaf_reg=3, catboostregressor__learning_rate=0.05, catboostregressor__n_estimators=1000, catboostregressor__verbose=False; total time=  52.8s\n",
      "[CV] END catboostregressor__depth=6, catboostregressor__l2_leaf_reg=3, catboostregressor__learning_rate=0.05, catboostregressor__n_estimators=1000, catboostregressor__verbose=False; total time=  52.9s\n",
      "[CV] END catboostregressor__depth=6, catboostregressor__l2_leaf_reg=3, catboostregressor__learning_rate=0.05, catboostregressor__n_estimators=2000, catboostregressor__verbose=False; total time= 1.6min\n",
      "[CV] END catboostregressor__depth=6, catboostregressor__l2_leaf_reg=3, catboostregressor__learning_rate=0.05, catboostregressor__n_estimators=2000, catboostregressor__verbose=False; total time= 1.6min\n",
      "[CV] END catboostregressor__depth=6, catboostregressor__l2_leaf_reg=3, catboostregressor__learning_rate=0.05, catboostregressor__n_estimators=2000, catboostregressor__verbose=False; total time= 1.6min\n",
      "[CV] END catboostregressor__depth=6, catboostregressor__l2_leaf_reg=3, catboostregressor__learning_rate=0.05, catboostregressor__n_estimators=2000, catboostregressor__verbose=False; total time= 1.6min\n",
      "[CV] END catboostregressor__depth=6, catboostregressor__l2_leaf_reg=3, catboostregressor__learning_rate=0.05, catboostregressor__n_estimators=2000, catboostregressor__verbose=False; total time= 1.6min\n",
      "[CV] END catboostregressor__depth=6, catboostregressor__l2_leaf_reg=3, catboostregressor__learning_rate=0.1, catboostregressor__n_estimators=100, catboostregressor__verbose=False; total time=  14.0s\n",
      "[CV] END catboostregressor__depth=6, catboostregressor__l2_leaf_reg=3, catboostregressor__learning_rate=0.1, catboostregressor__n_estimators=100, catboostregressor__verbose=False; total time=  13.8s\n",
      "[CV] END catboostregressor__depth=6, catboostregressor__l2_leaf_reg=3, catboostregressor__learning_rate=0.1, catboostregressor__n_estimators=100, catboostregressor__verbose=False; total time=  14.0s\n",
      "[CV] END catboostregressor__depth=6, catboostregressor__l2_leaf_reg=3, catboostregressor__learning_rate=0.1, catboostregressor__n_estimators=100, catboostregressor__verbose=False; total time=  14.0s\n",
      "[CV] END catboostregressor__depth=6, catboostregressor__l2_leaf_reg=3, catboostregressor__learning_rate=0.1, catboostregressor__n_estimators=100, catboostregressor__verbose=False; total time=  14.0s\n",
      "[CV] END catboostregressor__depth=6, catboostregressor__l2_leaf_reg=3, catboostregressor__learning_rate=0.1, catboostregressor__n_estimators=1000, catboostregressor__verbose=False; total time=  53.3s\n",
      "[CV] END catboostregressor__depth=6, catboostregressor__l2_leaf_reg=3, catboostregressor__learning_rate=0.1, catboostregressor__n_estimators=1000, catboostregressor__verbose=False; total time=  53.1s\n",
      "[CV] END catboostregressor__depth=6, catboostregressor__l2_leaf_reg=3, catboostregressor__learning_rate=0.1, catboostregressor__n_estimators=1000, catboostregressor__verbose=False; total time=  52.9s\n",
      "[CV] END catboostregressor__depth=6, catboostregressor__l2_leaf_reg=3, catboostregressor__learning_rate=0.1, catboostregressor__n_estimators=1000, catboostregressor__verbose=False; total time=  53.0s\n",
      "[CV] END catboostregressor__depth=6, catboostregressor__l2_leaf_reg=3, catboostregressor__learning_rate=0.1, catboostregressor__n_estimators=1000, catboostregressor__verbose=False; total time=  53.1s\n",
      "[CV] END catboostregressor__depth=6, catboostregressor__l2_leaf_reg=3, catboostregressor__learning_rate=0.1, catboostregressor__n_estimators=2000, catboostregressor__verbose=False; total time= 1.6min\n",
      "[CV] END catboostregressor__depth=6, catboostregressor__l2_leaf_reg=3, catboostregressor__learning_rate=0.1, catboostregressor__n_estimators=2000, catboostregressor__verbose=False; total time= 1.6min\n",
      "[CV] END catboostregressor__depth=6, catboostregressor__l2_leaf_reg=3, catboostregressor__learning_rate=0.1, catboostregressor__n_estimators=2000, catboostregressor__verbose=False; total time= 1.6min\n",
      "[CV] END catboostregressor__depth=6, catboostregressor__l2_leaf_reg=3, catboostregressor__learning_rate=0.1, catboostregressor__n_estimators=2000, catboostregressor__verbose=False; total time= 1.6min\n",
      "[CV] END catboostregressor__depth=6, catboostregressor__l2_leaf_reg=3, catboostregressor__learning_rate=0.1, catboostregressor__n_estimators=2000, catboostregressor__verbose=False; total time= 1.6min\n",
      "[CV] END catboostregressor__depth=6, catboostregressor__l2_leaf_reg=5, catboostregressor__learning_rate=0.01, catboostregressor__n_estimators=100, catboostregressor__verbose=False; total time=  14.1s\n",
      "[CV] END catboostregressor__depth=6, catboostregressor__l2_leaf_reg=5, catboostregressor__learning_rate=0.01, catboostregressor__n_estimators=100, catboostregressor__verbose=False; total time=  14.0s\n",
      "[CV] END catboostregressor__depth=6, catboostregressor__l2_leaf_reg=5, catboostregressor__learning_rate=0.01, catboostregressor__n_estimators=100, catboostregressor__verbose=False; total time=  14.0s\n",
      "[CV] END catboostregressor__depth=6, catboostregressor__l2_leaf_reg=5, catboostregressor__learning_rate=0.01, catboostregressor__n_estimators=100, catboostregressor__verbose=False; total time=  14.0s\n",
      "[CV] END catboostregressor__depth=6, catboostregressor__l2_leaf_reg=5, catboostregressor__learning_rate=0.01, catboostregressor__n_estimators=100, catboostregressor__verbose=False; total time=  14.1s\n",
      "[CV] END catboostregressor__depth=6, catboostregressor__l2_leaf_reg=5, catboostregressor__learning_rate=0.01, catboostregressor__n_estimators=1000, catboostregressor__verbose=False; total time=  55.5s\n",
      "[CV] END catboostregressor__depth=6, catboostregressor__l2_leaf_reg=5, catboostregressor__learning_rate=0.01, catboostregressor__n_estimators=1000, catboostregressor__verbose=False; total time=  55.0s\n",
      "[CV] END catboostregressor__depth=6, catboostregressor__l2_leaf_reg=5, catboostregressor__learning_rate=0.01, catboostregressor__n_estimators=1000, catboostregressor__verbose=False; total time=  54.8s\n",
      "[CV] END catboostregressor__depth=6, catboostregressor__l2_leaf_reg=5, catboostregressor__learning_rate=0.01, catboostregressor__n_estimators=1000, catboostregressor__verbose=False; total time=  55.1s\n",
      "[CV] END catboostregressor__depth=6, catboostregressor__l2_leaf_reg=5, catboostregressor__learning_rate=0.01, catboostregressor__n_estimators=1000, catboostregressor__verbose=False; total time=  55.8s\n",
      "[CV] END catboostregressor__depth=6, catboostregressor__l2_leaf_reg=5, catboostregressor__learning_rate=0.01, catboostregressor__n_estimators=2000, catboostregressor__verbose=False; total time= 1.6min\n",
      "[CV] END catboostregressor__depth=6, catboostregressor__l2_leaf_reg=5, catboostregressor__learning_rate=0.01, catboostregressor__n_estimators=2000, catboostregressor__verbose=False; total time= 1.6min\n",
      "[CV] END catboostregressor__depth=6, catboostregressor__l2_leaf_reg=5, catboostregressor__learning_rate=0.01, catboostregressor__n_estimators=2000, catboostregressor__verbose=False; total time= 1.6min\n",
      "[CV] END catboostregressor__depth=6, catboostregressor__l2_leaf_reg=5, catboostregressor__learning_rate=0.01, catboostregressor__n_estimators=2000, catboostregressor__verbose=False; total time= 1.6min\n",
      "[CV] END catboostregressor__depth=6, catboostregressor__l2_leaf_reg=5, catboostregressor__learning_rate=0.01, catboostregressor__n_estimators=2000, catboostregressor__verbose=False; total time= 1.6min\n",
      "[CV] END catboostregressor__depth=6, catboostregressor__l2_leaf_reg=5, catboostregressor__learning_rate=0.05, catboostregressor__n_estimators=100, catboostregressor__verbose=False; total time=  14.1s\n",
      "[CV] END catboostregressor__depth=6, catboostregressor__l2_leaf_reg=5, catboostregressor__learning_rate=0.05, catboostregressor__n_estimators=100, catboostregressor__verbose=False; total time=  14.1s\n",
      "[CV] END catboostregressor__depth=6, catboostregressor__l2_leaf_reg=5, catboostregressor__learning_rate=0.05, catboostregressor__n_estimators=100, catboostregressor__verbose=False; total time=  14.5s\n",
      "[CV] END catboostregressor__depth=6, catboostregressor__l2_leaf_reg=5, catboostregressor__learning_rate=0.05, catboostregressor__n_estimators=100, catboostregressor__verbose=False; total time=  14.0s\n",
      "[CV] END catboostregressor__depth=6, catboostregressor__l2_leaf_reg=5, catboostregressor__learning_rate=0.05, catboostregressor__n_estimators=100, catboostregressor__verbose=False; total time=  14.1s\n",
      "[CV] END catboostregressor__depth=6, catboostregressor__l2_leaf_reg=5, catboostregressor__learning_rate=0.05, catboostregressor__n_estimators=1000, catboostregressor__verbose=False; total time=  53.6s\n",
      "[CV] END catboostregressor__depth=6, catboostregressor__l2_leaf_reg=5, catboostregressor__learning_rate=0.05, catboostregressor__n_estimators=1000, catboostregressor__verbose=False; total time=  53.4s\n",
      "[CV] END catboostregressor__depth=6, catboostregressor__l2_leaf_reg=5, catboostregressor__learning_rate=0.05, catboostregressor__n_estimators=1000, catboostregressor__verbose=False; total time=  52.5s\n",
      "[CV] END catboostregressor__depth=6, catboostregressor__l2_leaf_reg=5, catboostregressor__learning_rate=0.05, catboostregressor__n_estimators=1000, catboostregressor__verbose=False; total time=  52.8s\n",
      "[CV] END catboostregressor__depth=6, catboostregressor__l2_leaf_reg=5, catboostregressor__learning_rate=0.05, catboostregressor__n_estimators=1000, catboostregressor__verbose=False; total time=  53.0s\n",
      "[CV] END catboostregressor__depth=6, catboostregressor__l2_leaf_reg=5, catboostregressor__learning_rate=0.05, catboostregressor__n_estimators=2000, catboostregressor__verbose=False; total time= 1.6min\n",
      "[CV] END catboostregressor__depth=6, catboostregressor__l2_leaf_reg=5, catboostregressor__learning_rate=0.05, catboostregressor__n_estimators=2000, catboostregressor__verbose=False; total time= 1.6min\n",
      "[CV] END catboostregressor__depth=6, catboostregressor__l2_leaf_reg=5, catboostregressor__learning_rate=0.05, catboostregressor__n_estimators=2000, catboostregressor__verbose=False; total time= 1.6min\n",
      "[CV] END catboostregressor__depth=6, catboostregressor__l2_leaf_reg=5, catboostregressor__learning_rate=0.05, catboostregressor__n_estimators=2000, catboostregressor__verbose=False; total time= 1.6min\n",
      "[CV] END catboostregressor__depth=6, catboostregressor__l2_leaf_reg=5, catboostregressor__learning_rate=0.05, catboostregressor__n_estimators=2000, catboostregressor__verbose=False; total time= 1.6min\n",
      "[CV] END catboostregressor__depth=6, catboostregressor__l2_leaf_reg=5, catboostregressor__learning_rate=0.1, catboostregressor__n_estimators=100, catboostregressor__verbose=False; total time=  14.1s\n",
      "[CV] END catboostregressor__depth=6, catboostregressor__l2_leaf_reg=5, catboostregressor__learning_rate=0.1, catboostregressor__n_estimators=100, catboostregressor__verbose=False; total time=  13.9s\n",
      "[CV] END catboostregressor__depth=6, catboostregressor__l2_leaf_reg=5, catboostregressor__learning_rate=0.1, catboostregressor__n_estimators=100, catboostregressor__verbose=False; total time=  13.9s\n",
      "[CV] END catboostregressor__depth=6, catboostregressor__l2_leaf_reg=5, catboostregressor__learning_rate=0.1, catboostregressor__n_estimators=100, catboostregressor__verbose=False; total time=  13.9s\n",
      "[CV] END catboostregressor__depth=6, catboostregressor__l2_leaf_reg=5, catboostregressor__learning_rate=0.1, catboostregressor__n_estimators=100, catboostregressor__verbose=False; total time=  14.4s\n",
      "[CV] END catboostregressor__depth=6, catboostregressor__l2_leaf_reg=5, catboostregressor__learning_rate=0.1, catboostregressor__n_estimators=1000, catboostregressor__verbose=False; total time=  53.3s\n",
      "[CV] END catboostregressor__depth=6, catboostregressor__l2_leaf_reg=5, catboostregressor__learning_rate=0.1, catboostregressor__n_estimators=1000, catboostregressor__verbose=False; total time=  52.9s\n",
      "[CV] END catboostregressor__depth=6, catboostregressor__l2_leaf_reg=5, catboostregressor__learning_rate=0.1, catboostregressor__n_estimators=1000, catboostregressor__verbose=False; total time=  52.7s\n",
      "[CV] END catboostregressor__depth=6, catboostregressor__l2_leaf_reg=5, catboostregressor__learning_rate=0.1, catboostregressor__n_estimators=1000, catboostregressor__verbose=False; total time=  53.1s\n",
      "[CV] END catboostregressor__depth=6, catboostregressor__l2_leaf_reg=5, catboostregressor__learning_rate=0.1, catboostregressor__n_estimators=1000, catboostregressor__verbose=False; total time=  53.2s\n",
      "[CV] END catboostregressor__depth=6, catboostregressor__l2_leaf_reg=5, catboostregressor__learning_rate=0.1, catboostregressor__n_estimators=2000, catboostregressor__verbose=False; total time= 1.6min\n",
      "[CV] END catboostregressor__depth=6, catboostregressor__l2_leaf_reg=5, catboostregressor__learning_rate=0.1, catboostregressor__n_estimators=2000, catboostregressor__verbose=False; total time= 1.6min\n",
      "[CV] END catboostregressor__depth=6, catboostregressor__l2_leaf_reg=5, catboostregressor__learning_rate=0.1, catboostregressor__n_estimators=2000, catboostregressor__verbose=False; total time= 1.6min\n",
      "[CV] END catboostregressor__depth=6, catboostregressor__l2_leaf_reg=5, catboostregressor__learning_rate=0.1, catboostregressor__n_estimators=2000, catboostregressor__verbose=False; total time= 1.6min\n",
      "[CV] END catboostregressor__depth=6, catboostregressor__l2_leaf_reg=5, catboostregressor__learning_rate=0.1, catboostregressor__n_estimators=2000, catboostregressor__verbose=False; total time= 1.6min\n",
      "[CV] END catboostregressor__depth=8, catboostregressor__l2_leaf_reg=1, catboostregressor__learning_rate=0.01, catboostregressor__n_estimators=100, catboostregressor__verbose=False; total time=  16.9s\n",
      "[CV] END catboostregressor__depth=8, catboostregressor__l2_leaf_reg=1, catboostregressor__learning_rate=0.01, catboostregressor__n_estimators=100, catboostregressor__verbose=False; total time=  17.0s\n",
      "[CV] END catboostregressor__depth=8, catboostregressor__l2_leaf_reg=1, catboostregressor__learning_rate=0.01, catboostregressor__n_estimators=100, catboostregressor__verbose=False; total time=  16.9s\n",
      "[CV] END catboostregressor__depth=8, catboostregressor__l2_leaf_reg=1, catboostregressor__learning_rate=0.01, catboostregressor__n_estimators=100, catboostregressor__verbose=False; total time=  17.3s\n",
      "[CV] END catboostregressor__depth=8, catboostregressor__l2_leaf_reg=1, catboostregressor__learning_rate=0.01, catboostregressor__n_estimators=100, catboostregressor__verbose=False; total time=  17.1s\n",
      "[CV] END catboostregressor__depth=8, catboostregressor__l2_leaf_reg=1, catboostregressor__learning_rate=0.01, catboostregressor__n_estimators=1000, catboostregressor__verbose=False; total time= 1.4min\n",
      "[CV] END catboostregressor__depth=8, catboostregressor__l2_leaf_reg=1, catboostregressor__learning_rate=0.01, catboostregressor__n_estimators=1000, catboostregressor__verbose=False; total time= 1.4min\n",
      "[CV] END catboostregressor__depth=8, catboostregressor__l2_leaf_reg=1, catboostregressor__learning_rate=0.01, catboostregressor__n_estimators=1000, catboostregressor__verbose=False; total time= 1.4min\n",
      "[CV] END catboostregressor__depth=8, catboostregressor__l2_leaf_reg=1, catboostregressor__learning_rate=0.01, catboostregressor__n_estimators=1000, catboostregressor__verbose=False; total time= 1.4min\n",
      "[CV] END catboostregressor__depth=8, catboostregressor__l2_leaf_reg=1, catboostregressor__learning_rate=0.01, catboostregressor__n_estimators=1000, catboostregressor__verbose=False; total time= 1.4min\n",
      "[CV] END catboostregressor__depth=8, catboostregressor__l2_leaf_reg=1, catboostregressor__learning_rate=0.01, catboostregressor__n_estimators=2000, catboostregressor__verbose=False; total time= 2.5min\n",
      "[CV] END catboostregressor__depth=8, catboostregressor__l2_leaf_reg=1, catboostregressor__learning_rate=0.01, catboostregressor__n_estimators=2000, catboostregressor__verbose=False; total time= 2.5min\n",
      "[CV] END catboostregressor__depth=8, catboostregressor__l2_leaf_reg=1, catboostregressor__learning_rate=0.01, catboostregressor__n_estimators=2000, catboostregressor__verbose=False; total time= 2.5min\n",
      "[CV] END catboostregressor__depth=8, catboostregressor__l2_leaf_reg=1, catboostregressor__learning_rate=0.01, catboostregressor__n_estimators=2000, catboostregressor__verbose=False; total time= 2.5min\n",
      "[CV] END catboostregressor__depth=8, catboostregressor__l2_leaf_reg=1, catboostregressor__learning_rate=0.01, catboostregressor__n_estimators=2000, catboostregressor__verbose=False; total time= 2.5min\n",
      "[CV] END catboostregressor__depth=8, catboostregressor__l2_leaf_reg=1, catboostregressor__learning_rate=0.05, catboostregressor__n_estimators=100, catboostregressor__verbose=False; total time=  17.3s\n",
      "[CV] END catboostregressor__depth=8, catboostregressor__l2_leaf_reg=1, catboostregressor__learning_rate=0.05, catboostregressor__n_estimators=100, catboostregressor__verbose=False; total time=  16.8s\n",
      "[CV] END catboostregressor__depth=8, catboostregressor__l2_leaf_reg=1, catboostregressor__learning_rate=0.05, catboostregressor__n_estimators=100, catboostregressor__verbose=False; total time=  16.9s\n",
      "[CV] END catboostregressor__depth=8, catboostregressor__l2_leaf_reg=1, catboostregressor__learning_rate=0.05, catboostregressor__n_estimators=100, catboostregressor__verbose=False; total time=  16.8s\n",
      "[CV] END catboostregressor__depth=8, catboostregressor__l2_leaf_reg=1, catboostregressor__learning_rate=0.05, catboostregressor__n_estimators=100, catboostregressor__verbose=False; total time=  17.1s\n",
      "[CV] END catboostregressor__depth=8, catboostregressor__l2_leaf_reg=1, catboostregressor__learning_rate=0.05, catboostregressor__n_estimators=1000, catboostregressor__verbose=False; total time= 1.3min\n",
      "[CV] END catboostregressor__depth=8, catboostregressor__l2_leaf_reg=1, catboostregressor__learning_rate=0.05, catboostregressor__n_estimators=1000, catboostregressor__verbose=False; total time= 1.3min\n",
      "[CV] END catboostregressor__depth=8, catboostregressor__l2_leaf_reg=1, catboostregressor__learning_rate=0.05, catboostregressor__n_estimators=1000, catboostregressor__verbose=False; total time= 1.3min\n",
      "[CV] END catboostregressor__depth=8, catboostregressor__l2_leaf_reg=1, catboostregressor__learning_rate=0.05, catboostregressor__n_estimators=1000, catboostregressor__verbose=False; total time= 1.3min\n",
      "[CV] END catboostregressor__depth=8, catboostregressor__l2_leaf_reg=1, catboostregressor__learning_rate=0.05, catboostregressor__n_estimators=1000, catboostregressor__verbose=False; total time= 1.3min\n",
      "[CV] END catboostregressor__depth=8, catboostregressor__l2_leaf_reg=1, catboostregressor__learning_rate=0.05, catboostregressor__n_estimators=2000, catboostregressor__verbose=False; total time= 2.5min\n",
      "[CV] END catboostregressor__depth=8, catboostregressor__l2_leaf_reg=1, catboostregressor__learning_rate=0.05, catboostregressor__n_estimators=2000, catboostregressor__verbose=False; total time= 2.5min\n",
      "[CV] END catboostregressor__depth=8, catboostregressor__l2_leaf_reg=1, catboostregressor__learning_rate=0.05, catboostregressor__n_estimators=2000, catboostregressor__verbose=False; total time= 2.5min\n",
      "[CV] END catboostregressor__depth=8, catboostregressor__l2_leaf_reg=1, catboostregressor__learning_rate=0.05, catboostregressor__n_estimators=2000, catboostregressor__verbose=False; total time= 2.5min\n",
      "[CV] END catboostregressor__depth=8, catboostregressor__l2_leaf_reg=1, catboostregressor__learning_rate=0.05, catboostregressor__n_estimators=2000, catboostregressor__verbose=False; total time= 2.5min\n",
      "[CV] END catboostregressor__depth=8, catboostregressor__l2_leaf_reg=1, catboostregressor__learning_rate=0.1, catboostregressor__n_estimators=100, catboostregressor__verbose=False; total time=  16.8s\n",
      "[CV] END catboostregressor__depth=8, catboostregressor__l2_leaf_reg=1, catboostregressor__learning_rate=0.1, catboostregressor__n_estimators=100, catboostregressor__verbose=False; total time=  16.8s\n",
      "[CV] END catboostregressor__depth=8, catboostregressor__l2_leaf_reg=1, catboostregressor__learning_rate=0.1, catboostregressor__n_estimators=100, catboostregressor__verbose=False; total time=  16.8s\n",
      "[CV] END catboostregressor__depth=8, catboostregressor__l2_leaf_reg=1, catboostregressor__learning_rate=0.1, catboostregressor__n_estimators=100, catboostregressor__verbose=False; total time=  16.8s\n",
      "[CV] END catboostregressor__depth=8, catboostregressor__l2_leaf_reg=1, catboostregressor__learning_rate=0.1, catboostregressor__n_estimators=100, catboostregressor__verbose=False; total time=  16.8s\n",
      "[CV] END catboostregressor__depth=8, catboostregressor__l2_leaf_reg=1, catboostregressor__learning_rate=0.1, catboostregressor__n_estimators=1000, catboostregressor__verbose=False; total time= 1.4min\n",
      "[CV] END catboostregressor__depth=8, catboostregressor__l2_leaf_reg=1, catboostregressor__learning_rate=0.1, catboostregressor__n_estimators=1000, catboostregressor__verbose=False; total time= 1.3min\n",
      "[CV] END catboostregressor__depth=8, catboostregressor__l2_leaf_reg=1, catboostregressor__learning_rate=0.1, catboostregressor__n_estimators=1000, catboostregressor__verbose=False; total time= 1.3min\n",
      "[CV] END catboostregressor__depth=8, catboostregressor__l2_leaf_reg=1, catboostregressor__learning_rate=0.1, catboostregressor__n_estimators=1000, catboostregressor__verbose=False; total time= 1.3min\n",
      "[CV] END catboostregressor__depth=8, catboostregressor__l2_leaf_reg=1, catboostregressor__learning_rate=0.1, catboostregressor__n_estimators=1000, catboostregressor__verbose=False; total time= 1.3min\n",
      "[CV] END catboostregressor__depth=8, catboostregressor__l2_leaf_reg=1, catboostregressor__learning_rate=0.1, catboostregressor__n_estimators=2000, catboostregressor__verbose=False; total time= 2.5min\n",
      "[CV] END catboostregressor__depth=8, catboostregressor__l2_leaf_reg=1, catboostregressor__learning_rate=0.1, catboostregressor__n_estimators=2000, catboostregressor__verbose=False; total time= 2.5min\n",
      "[CV] END catboostregressor__depth=8, catboostregressor__l2_leaf_reg=1, catboostregressor__learning_rate=0.1, catboostregressor__n_estimators=2000, catboostregressor__verbose=False; total time= 2.5min\n",
      "[CV] END catboostregressor__depth=8, catboostregressor__l2_leaf_reg=1, catboostregressor__learning_rate=0.1, catboostregressor__n_estimators=2000, catboostregressor__verbose=False; total time= 2.5min\n",
      "[CV] END catboostregressor__depth=8, catboostregressor__l2_leaf_reg=1, catboostregressor__learning_rate=0.1, catboostregressor__n_estimators=2000, catboostregressor__verbose=False; total time= 2.5min\n",
      "[CV] END catboostregressor__depth=8, catboostregressor__l2_leaf_reg=3, catboostregressor__learning_rate=0.01, catboostregressor__n_estimators=100, catboostregressor__verbose=False; total time=  17.1s\n",
      "[CV] END catboostregressor__depth=8, catboostregressor__l2_leaf_reg=3, catboostregressor__learning_rate=0.01, catboostregressor__n_estimators=100, catboostregressor__verbose=False; total time=  16.8s\n",
      "[CV] END catboostregressor__depth=8, catboostregressor__l2_leaf_reg=3, catboostregressor__learning_rate=0.01, catboostregressor__n_estimators=100, catboostregressor__verbose=False; total time=  16.8s\n",
      "[CV] END catboostregressor__depth=8, catboostregressor__l2_leaf_reg=3, catboostregressor__learning_rate=0.01, catboostregressor__n_estimators=100, catboostregressor__verbose=False; total time=  17.0s\n",
      "[CV] END catboostregressor__depth=8, catboostregressor__l2_leaf_reg=3, catboostregressor__learning_rate=0.01, catboostregressor__n_estimators=100, catboostregressor__verbose=False; total time=  17.3s\n",
      "[CV] END catboostregressor__depth=8, catboostregressor__l2_leaf_reg=3, catboostregressor__learning_rate=0.01, catboostregressor__n_estimators=1000, catboostregressor__verbose=False; total time= 1.4min\n",
      "[CV] END catboostregressor__depth=8, catboostregressor__l2_leaf_reg=3, catboostregressor__learning_rate=0.01, catboostregressor__n_estimators=1000, catboostregressor__verbose=False; total time= 1.4min\n",
      "[CV] END catboostregressor__depth=8, catboostregressor__l2_leaf_reg=3, catboostregressor__learning_rate=0.01, catboostregressor__n_estimators=1000, catboostregressor__verbose=False; total time= 1.4min\n",
      "[CV] END catboostregressor__depth=8, catboostregressor__l2_leaf_reg=3, catboostregressor__learning_rate=0.01, catboostregressor__n_estimators=1000, catboostregressor__verbose=False; total time= 1.4min\n",
      "[CV] END catboostregressor__depth=8, catboostregressor__l2_leaf_reg=3, catboostregressor__learning_rate=0.01, catboostregressor__n_estimators=1000, catboostregressor__verbose=False; total time= 1.4min\n",
      "[CV] END catboostregressor__depth=8, catboostregressor__l2_leaf_reg=3, catboostregressor__learning_rate=0.01, catboostregressor__n_estimators=2000, catboostregressor__verbose=False; total time= 2.6min\n",
      "[CV] END catboostregressor__depth=8, catboostregressor__l2_leaf_reg=3, catboostregressor__learning_rate=0.01, catboostregressor__n_estimators=2000, catboostregressor__verbose=False; total time= 2.5min\n",
      "[CV] END catboostregressor__depth=8, catboostregressor__l2_leaf_reg=3, catboostregressor__learning_rate=0.01, catboostregressor__n_estimators=2000, catboostregressor__verbose=False; total time= 2.5min\n",
      "[CV] END catboostregressor__depth=8, catboostregressor__l2_leaf_reg=3, catboostregressor__learning_rate=0.01, catboostregressor__n_estimators=2000, catboostregressor__verbose=False; total time= 2.5min\n",
      "[CV] END catboostregressor__depth=8, catboostregressor__l2_leaf_reg=3, catboostregressor__learning_rate=0.01, catboostregressor__n_estimators=2000, catboostregressor__verbose=False; total time= 2.5min\n",
      "[CV] END catboostregressor__depth=8, catboostregressor__l2_leaf_reg=3, catboostregressor__learning_rate=0.05, catboostregressor__n_estimators=100, catboostregressor__verbose=False; total time=  16.9s\n",
      "[CV] END catboostregressor__depth=8, catboostregressor__l2_leaf_reg=3, catboostregressor__learning_rate=0.05, catboostregressor__n_estimators=100, catboostregressor__verbose=False; total time=  16.8s\n",
      "[CV] END catboostregressor__depth=8, catboostregressor__l2_leaf_reg=3, catboostregressor__learning_rate=0.05, catboostregressor__n_estimators=100, catboostregressor__verbose=False; total time=  16.9s\n",
      "[CV] END catboostregressor__depth=8, catboostregressor__l2_leaf_reg=3, catboostregressor__learning_rate=0.05, catboostregressor__n_estimators=100, catboostregressor__verbose=False; total time=  17.1s\n",
      "[CV] END catboostregressor__depth=8, catboostregressor__l2_leaf_reg=3, catboostregressor__learning_rate=0.05, catboostregressor__n_estimators=100, catboostregressor__verbose=False; total time=  17.0s\n",
      "[CV] END catboostregressor__depth=8, catboostregressor__l2_leaf_reg=3, catboostregressor__learning_rate=0.05, catboostregressor__n_estimators=1000, catboostregressor__verbose=False; total time= 1.3min\n",
      "[CV] END catboostregressor__depth=8, catboostregressor__l2_leaf_reg=3, catboostregressor__learning_rate=0.05, catboostregressor__n_estimators=1000, catboostregressor__verbose=False; total time= 1.3min\n",
      "[CV] END catboostregressor__depth=8, catboostregressor__l2_leaf_reg=3, catboostregressor__learning_rate=0.05, catboostregressor__n_estimators=1000, catboostregressor__verbose=False; total time= 1.3min\n",
      "[CV] END catboostregressor__depth=8, catboostregressor__l2_leaf_reg=3, catboostregressor__learning_rate=0.05, catboostregressor__n_estimators=1000, catboostregressor__verbose=False; total time= 1.3min\n",
      "[CV] END catboostregressor__depth=8, catboostregressor__l2_leaf_reg=3, catboostregressor__learning_rate=0.05, catboostregressor__n_estimators=1000, catboostregressor__verbose=False; total time= 1.3min\n",
      "[CV] END catboostregressor__depth=8, catboostregressor__l2_leaf_reg=3, catboostregressor__learning_rate=0.05, catboostregressor__n_estimators=2000, catboostregressor__verbose=False; total time= 2.5min\n",
      "[CV] END catboostregressor__depth=8, catboostregressor__l2_leaf_reg=3, catboostregressor__learning_rate=0.05, catboostregressor__n_estimators=2000, catboostregressor__verbose=False; total time= 2.5min\n",
      "[CV] END catboostregressor__depth=8, catboostregressor__l2_leaf_reg=3, catboostregressor__learning_rate=0.05, catboostregressor__n_estimators=2000, catboostregressor__verbose=False; total time= 2.5min\n",
      "[CV] END catboostregressor__depth=8, catboostregressor__l2_leaf_reg=3, catboostregressor__learning_rate=0.05, catboostregressor__n_estimators=2000, catboostregressor__verbose=False; total time= 2.5min\n",
      "[CV] END catboostregressor__depth=8, catboostregressor__l2_leaf_reg=3, catboostregressor__learning_rate=0.05, catboostregressor__n_estimators=2000, catboostregressor__verbose=False; total time= 2.5min\n",
      "[CV] END catboostregressor__depth=8, catboostregressor__l2_leaf_reg=3, catboostregressor__learning_rate=0.1, catboostregressor__n_estimators=100, catboostregressor__verbose=False; total time=  17.3s\n",
      "[CV] END catboostregressor__depth=8, catboostregressor__l2_leaf_reg=3, catboostregressor__learning_rate=0.1, catboostregressor__n_estimators=100, catboostregressor__verbose=False; total time=  16.7s\n",
      "[CV] END catboostregressor__depth=8, catboostregressor__l2_leaf_reg=3, catboostregressor__learning_rate=0.1, catboostregressor__n_estimators=100, catboostregressor__verbose=False; total time=  16.7s\n",
      "[CV] END catboostregressor__depth=8, catboostregressor__l2_leaf_reg=3, catboostregressor__learning_rate=0.1, catboostregressor__n_estimators=100, catboostregressor__verbose=False; total time=  16.7s\n",
      "[CV] END catboostregressor__depth=8, catboostregressor__l2_leaf_reg=3, catboostregressor__learning_rate=0.1, catboostregressor__n_estimators=100, catboostregressor__verbose=False; total time=  17.1s\n",
      "[CV] END catboostregressor__depth=8, catboostregressor__l2_leaf_reg=3, catboostregressor__learning_rate=0.1, catboostregressor__n_estimators=1000, catboostregressor__verbose=False; total time= 1.3min\n",
      "[CV] END catboostregressor__depth=8, catboostregressor__l2_leaf_reg=3, catboostregressor__learning_rate=0.1, catboostregressor__n_estimators=1000, catboostregressor__verbose=False; total time= 1.4min\n",
      "[CV] END catboostregressor__depth=8, catboostregressor__l2_leaf_reg=3, catboostregressor__learning_rate=0.1, catboostregressor__n_estimators=1000, catboostregressor__verbose=False; total time= 1.3min\n",
      "[CV] END catboostregressor__depth=8, catboostregressor__l2_leaf_reg=3, catboostregressor__learning_rate=0.1, catboostregressor__n_estimators=1000, catboostregressor__verbose=False; total time= 1.4min\n",
      "[CV] END catboostregressor__depth=8, catboostregressor__l2_leaf_reg=3, catboostregressor__learning_rate=0.1, catboostregressor__n_estimators=1000, catboostregressor__verbose=False; total time= 1.3min\n",
      "[CV] END catboostregressor__depth=8, catboostregressor__l2_leaf_reg=3, catboostregressor__learning_rate=0.1, catboostregressor__n_estimators=2000, catboostregressor__verbose=False; total time= 2.5min\n",
      "[CV] END catboostregressor__depth=8, catboostregressor__l2_leaf_reg=3, catboostregressor__learning_rate=0.1, catboostregressor__n_estimators=2000, catboostregressor__verbose=False; total time= 2.5min\n",
      "[CV] END catboostregressor__depth=8, catboostregressor__l2_leaf_reg=3, catboostregressor__learning_rate=0.1, catboostregressor__n_estimators=2000, catboostregressor__verbose=False; total time= 2.5min\n",
      "[CV] END catboostregressor__depth=8, catboostregressor__l2_leaf_reg=3, catboostregressor__learning_rate=0.1, catboostregressor__n_estimators=2000, catboostregressor__verbose=False; total time= 2.5min\n",
      "[CV] END catboostregressor__depth=8, catboostregressor__l2_leaf_reg=3, catboostregressor__learning_rate=0.1, catboostregressor__n_estimators=2000, catboostregressor__verbose=False; total time= 2.5min\n",
      "[CV] END catboostregressor__depth=8, catboostregressor__l2_leaf_reg=5, catboostregressor__learning_rate=0.01, catboostregressor__n_estimators=100, catboostregressor__verbose=False; total time=  17.1s\n",
      "[CV] END catboostregressor__depth=8, catboostregressor__l2_leaf_reg=5, catboostregressor__learning_rate=0.01, catboostregressor__n_estimators=100, catboostregressor__verbose=False; total time=  16.9s\n",
      "[CV] END catboostregressor__depth=8, catboostregressor__l2_leaf_reg=5, catboostregressor__learning_rate=0.01, catboostregressor__n_estimators=100, catboostregressor__verbose=False; total time=  16.9s\n",
      "[CV] END catboostregressor__depth=8, catboostregressor__l2_leaf_reg=5, catboostregressor__learning_rate=0.01, catboostregressor__n_estimators=100, catboostregressor__verbose=False; total time=  17.1s\n",
      "[CV] END catboostregressor__depth=8, catboostregressor__l2_leaf_reg=5, catboostregressor__learning_rate=0.01, catboostregressor__n_estimators=100, catboostregressor__verbose=False; total time=  17.4s\n",
      "[CV] END catboostregressor__depth=8, catboostregressor__l2_leaf_reg=5, catboostregressor__learning_rate=0.01, catboostregressor__n_estimators=1000, catboostregressor__verbose=False; total time= 1.4min\n",
      "[CV] END catboostregressor__depth=8, catboostregressor__l2_leaf_reg=5, catboostregressor__learning_rate=0.01, catboostregressor__n_estimators=1000, catboostregressor__verbose=False; total time= 1.4min\n",
      "[CV] END catboostregressor__depth=8, catboostregressor__l2_leaf_reg=5, catboostregressor__learning_rate=0.01, catboostregressor__n_estimators=1000, catboostregressor__verbose=False; total time= 1.4min\n",
      "[CV] END catboostregressor__depth=8, catboostregressor__l2_leaf_reg=5, catboostregressor__learning_rate=0.01, catboostregressor__n_estimators=1000, catboostregressor__verbose=False; total time= 1.4min\n",
      "[CV] END catboostregressor__depth=8, catboostregressor__l2_leaf_reg=5, catboostregressor__learning_rate=0.01, catboostregressor__n_estimators=1000, catboostregressor__verbose=False; total time= 1.4min\n",
      "[CV] END catboostregressor__depth=8, catboostregressor__l2_leaf_reg=5, catboostregressor__learning_rate=0.01, catboostregressor__n_estimators=2000, catboostregressor__verbose=False; total time= 2.6min\n",
      "[CV] END catboostregressor__depth=8, catboostregressor__l2_leaf_reg=5, catboostregressor__learning_rate=0.01, catboostregressor__n_estimators=2000, catboostregressor__verbose=False; total time= 2.6min\n",
      "[CV] END catboostregressor__depth=8, catboostregressor__l2_leaf_reg=5, catboostregressor__learning_rate=0.01, catboostregressor__n_estimators=2000, catboostregressor__verbose=False; total time= 2.5min\n",
      "[CV] END catboostregressor__depth=8, catboostregressor__l2_leaf_reg=5, catboostregressor__learning_rate=0.01, catboostregressor__n_estimators=2000, catboostregressor__verbose=False; total time= 2.6min\n",
      "[CV] END catboostregressor__depth=8, catboostregressor__l2_leaf_reg=5, catboostregressor__learning_rate=0.01, catboostregressor__n_estimators=2000, catboostregressor__verbose=False; total time= 2.5min\n",
      "[CV] END catboostregressor__depth=8, catboostregressor__l2_leaf_reg=5, catboostregressor__learning_rate=0.05, catboostregressor__n_estimators=100, catboostregressor__verbose=False; total time=  17.3s\n",
      "[CV] END catboostregressor__depth=8, catboostregressor__l2_leaf_reg=5, catboostregressor__learning_rate=0.05, catboostregressor__n_estimators=100, catboostregressor__verbose=False; total time=  16.7s\n",
      "[CV] END catboostregressor__depth=8, catboostregressor__l2_leaf_reg=5, catboostregressor__learning_rate=0.05, catboostregressor__n_estimators=100, catboostregressor__verbose=False; total time=  16.9s\n",
      "[CV] END catboostregressor__depth=8, catboostregressor__l2_leaf_reg=5, catboostregressor__learning_rate=0.05, catboostregressor__n_estimators=100, catboostregressor__verbose=False; total time=  17.2s\n",
      "[CV] END catboostregressor__depth=8, catboostregressor__l2_leaf_reg=5, catboostregressor__learning_rate=0.05, catboostregressor__n_estimators=100, catboostregressor__verbose=False; total time=  17.2s\n",
      "[CV] END catboostregressor__depth=8, catboostregressor__l2_leaf_reg=5, catboostregressor__learning_rate=0.05, catboostregressor__n_estimators=1000, catboostregressor__verbose=False; total time= 1.3min\n",
      "[CV] END catboostregressor__depth=8, catboostregressor__l2_leaf_reg=5, catboostregressor__learning_rate=0.05, catboostregressor__n_estimators=1000, catboostregressor__verbose=False; total time= 1.3min\n",
      "[CV] END catboostregressor__depth=8, catboostregressor__l2_leaf_reg=5, catboostregressor__learning_rate=0.05, catboostregressor__n_estimators=1000, catboostregressor__verbose=False; total time= 1.3min\n",
      "[CV] END catboostregressor__depth=8, catboostregressor__l2_leaf_reg=5, catboostregressor__learning_rate=0.05, catboostregressor__n_estimators=1000, catboostregressor__verbose=False; total time= 1.3min\n",
      "[CV] END catboostregressor__depth=8, catboostregressor__l2_leaf_reg=5, catboostregressor__learning_rate=0.05, catboostregressor__n_estimators=1000, catboostregressor__verbose=False; total time= 1.3min\n",
      "[CV] END catboostregressor__depth=8, catboostregressor__l2_leaf_reg=5, catboostregressor__learning_rate=0.05, catboostregressor__n_estimators=2000, catboostregressor__verbose=False; total time= 2.5min\n",
      "[CV] END catboostregressor__depth=8, catboostregressor__l2_leaf_reg=5, catboostregressor__learning_rate=0.05, catboostregressor__n_estimators=2000, catboostregressor__verbose=False; total time= 2.5min\n",
      "[CV] END catboostregressor__depth=8, catboostregressor__l2_leaf_reg=5, catboostregressor__learning_rate=0.05, catboostregressor__n_estimators=2000, catboostregressor__verbose=False; total time= 2.5min\n",
      "[CV] END catboostregressor__depth=8, catboostregressor__l2_leaf_reg=5, catboostregressor__learning_rate=0.05, catboostregressor__n_estimators=2000, catboostregressor__verbose=False; total time= 2.5min\n",
      "[CV] END catboostregressor__depth=8, catboostregressor__l2_leaf_reg=5, catboostregressor__learning_rate=0.05, catboostregressor__n_estimators=2000, catboostregressor__verbose=False; total time= 2.5min\n",
      "[CV] END catboostregressor__depth=8, catboostregressor__l2_leaf_reg=5, catboostregressor__learning_rate=0.1, catboostregressor__n_estimators=100, catboostregressor__verbose=False; total time=  17.3s\n",
      "[CV] END catboostregressor__depth=8, catboostregressor__l2_leaf_reg=5, catboostregressor__learning_rate=0.1, catboostregressor__n_estimators=100, catboostregressor__verbose=False; total time=  17.2s\n",
      "[CV] END catboostregressor__depth=8, catboostregressor__l2_leaf_reg=5, catboostregressor__learning_rate=0.1, catboostregressor__n_estimators=100, catboostregressor__verbose=False; total time=  17.3s\n",
      "[CV] END catboostregressor__depth=8, catboostregressor__l2_leaf_reg=5, catboostregressor__learning_rate=0.1, catboostregressor__n_estimators=100, catboostregressor__verbose=False; total time=  17.1s\n",
      "[CV] END catboostregressor__depth=8, catboostregressor__l2_leaf_reg=5, catboostregressor__learning_rate=0.1, catboostregressor__n_estimators=100, catboostregressor__verbose=False; total time=  17.0s\n",
      "[CV] END catboostregressor__depth=8, catboostregressor__l2_leaf_reg=5, catboostregressor__learning_rate=0.1, catboostregressor__n_estimators=1000, catboostregressor__verbose=False; total time= 1.3min\n",
      "[CV] END catboostregressor__depth=8, catboostregressor__l2_leaf_reg=5, catboostregressor__learning_rate=0.1, catboostregressor__n_estimators=1000, catboostregressor__verbose=False; total time= 1.3min\n",
      "[CV] END catboostregressor__depth=8, catboostregressor__l2_leaf_reg=5, catboostregressor__learning_rate=0.1, catboostregressor__n_estimators=1000, catboostregressor__verbose=False; total time= 1.3min\n",
      "[CV] END catboostregressor__depth=8, catboostregressor__l2_leaf_reg=5, catboostregressor__learning_rate=0.1, catboostregressor__n_estimators=1000, catboostregressor__verbose=False; total time= 1.3min\n",
      "[CV] END catboostregressor__depth=8, catboostregressor__l2_leaf_reg=5, catboostregressor__learning_rate=0.1, catboostregressor__n_estimators=1000, catboostregressor__verbose=False; total time= 1.3min\n",
      "[CV] END catboostregressor__depth=8, catboostregressor__l2_leaf_reg=5, catboostregressor__learning_rate=0.1, catboostregressor__n_estimators=2000, catboostregressor__verbose=False; total time= 2.5min\n",
      "[CV] END catboostregressor__depth=8, catboostregressor__l2_leaf_reg=5, catboostregressor__learning_rate=0.1, catboostregressor__n_estimators=2000, catboostregressor__verbose=False; total time= 2.5min\n",
      "[CV] END catboostregressor__depth=8, catboostregressor__l2_leaf_reg=5, catboostregressor__learning_rate=0.1, catboostregressor__n_estimators=2000, catboostregressor__verbose=False; total time= 2.5min\n",
      "[CV] END catboostregressor__depth=8, catboostregressor__l2_leaf_reg=5, catboostregressor__learning_rate=0.1, catboostregressor__n_estimators=2000, catboostregressor__verbose=False; total time= 2.5min\n",
      "[CV] END catboostregressor__depth=8, catboostregressor__l2_leaf_reg=5, catboostregressor__learning_rate=0.1, catboostregressor__n_estimators=2000, catboostregressor__verbose=False; total time= 2.5min\n"
     ]
    },
    {
     "data": {
      "text/html": [
       "<style>#sk-container-id-1 {color: black;background-color: white;}#sk-container-id-1 pre{padding: 0;}#sk-container-id-1 div.sk-toggleable {background-color: white;}#sk-container-id-1 label.sk-toggleable__label {cursor: pointer;display: block;width: 100%;margin-bottom: 0;padding: 0.3em;box-sizing: border-box;text-align: center;}#sk-container-id-1 label.sk-toggleable__label-arrow:before {content: \"▸\";float: left;margin-right: 0.25em;color: #696969;}#sk-container-id-1 label.sk-toggleable__label-arrow:hover:before {color: black;}#sk-container-id-1 div.sk-estimator:hover label.sk-toggleable__label-arrow:before {color: black;}#sk-container-id-1 div.sk-toggleable__content {max-height: 0;max-width: 0;overflow: hidden;text-align: left;background-color: #f0f8ff;}#sk-container-id-1 div.sk-toggleable__content pre {margin: 0.2em;color: black;border-radius: 0.25em;background-color: #f0f8ff;}#sk-container-id-1 input.sk-toggleable__control:checked~div.sk-toggleable__content {max-height: 200px;max-width: 100%;overflow: auto;}#sk-container-id-1 input.sk-toggleable__control:checked~label.sk-toggleable__label-arrow:before {content: \"▾\";}#sk-container-id-1 div.sk-estimator input.sk-toggleable__control:checked~label.sk-toggleable__label {background-color: #d4ebff;}#sk-container-id-1 div.sk-label input.sk-toggleable__control:checked~label.sk-toggleable__label {background-color: #d4ebff;}#sk-container-id-1 input.sk-hidden--visually {border: 0;clip: rect(1px 1px 1px 1px);clip: rect(1px, 1px, 1px, 1px);height: 1px;margin: -1px;overflow: hidden;padding: 0;position: absolute;width: 1px;}#sk-container-id-1 div.sk-estimator {font-family: monospace;background-color: #f0f8ff;border: 1px dotted black;border-radius: 0.25em;box-sizing: border-box;margin-bottom: 0.5em;}#sk-container-id-1 div.sk-estimator:hover {background-color: #d4ebff;}#sk-container-id-1 div.sk-parallel-item::after {content: \"\";width: 100%;border-bottom: 1px solid gray;flex-grow: 1;}#sk-container-id-1 div.sk-label:hover label.sk-toggleable__label {background-color: #d4ebff;}#sk-container-id-1 div.sk-serial::before {content: \"\";position: absolute;border-left: 1px solid gray;box-sizing: border-box;top: 0;bottom: 0;left: 50%;z-index: 0;}#sk-container-id-1 div.sk-serial {display: flex;flex-direction: column;align-items: center;background-color: white;padding-right: 0.2em;padding-left: 0.2em;position: relative;}#sk-container-id-1 div.sk-item {position: relative;z-index: 1;}#sk-container-id-1 div.sk-parallel {display: flex;align-items: stretch;justify-content: center;background-color: white;position: relative;}#sk-container-id-1 div.sk-item::before, #sk-container-id-1 div.sk-parallel-item::before {content: \"\";position: absolute;border-left: 1px solid gray;box-sizing: border-box;top: 0;bottom: 0;left: 50%;z-index: -1;}#sk-container-id-1 div.sk-parallel-item {display: flex;flex-direction: column;z-index: 1;position: relative;background-color: white;}#sk-container-id-1 div.sk-parallel-item:first-child::after {align-self: flex-end;width: 50%;}#sk-container-id-1 div.sk-parallel-item:last-child::after {align-self: flex-start;width: 50%;}#sk-container-id-1 div.sk-parallel-item:only-child::after {width: 0;}#sk-container-id-1 div.sk-dashed-wrapped {border: 1px dashed gray;margin: 0 0.4em 0.5em 0.4em;box-sizing: border-box;padding-bottom: 0.4em;background-color: white;}#sk-container-id-1 div.sk-label label {font-family: monospace;font-weight: bold;display: inline-block;line-height: 1.2em;}#sk-container-id-1 div.sk-label-container {text-align: center;}#sk-container-id-1 div.sk-container {/* jupyter's `normalize.less` sets `[hidden] { display: none; }` but bootstrap.min.css set `[hidden] { display: none !important; }` so we also need the `!important` here to be able to override the default hidden behavior on the sphinx rendered scikit-learn.org. See: https://github.com/scikit-learn/scikit-learn/issues/21755 */display: inline-block !important;position: relative;}#sk-container-id-1 div.sk-text-repr-fallback {display: none;}</style><div id=\"sk-container-id-1\" class=\"sk-top-container\"><div class=\"sk-text-repr-fallback\"><pre>GridSearchCV(cv=5,\n",
       "             estimator=Pipeline(steps=[(&#x27;standardscaler&#x27;, StandardScaler()),\n",
       "                                       (&#x27;splinetransformer&#x27;,\n",
       "                                        SplineTransformer(n_knots=3)),\n",
       "                                       (&#x27;catboostregressor&#x27;,\n",
       "                                        &lt;catboost.core.CatBoostRegressor object at 0x7d7743139890&gt;)]),\n",
       "             param_grid={&#x27;catboostregressor__depth&#x27;: [4, 6, 8],\n",
       "                         &#x27;catboostregressor__l2_leaf_reg&#x27;: (1, 3, 5),\n",
       "                         &#x27;catboostregressor__learning_rate&#x27;: (0.01, 0.05, 0.1),\n",
       "                         &#x27;catboostregressor__n_estimators&#x27;: [100, 1000, 2000],\n",
       "                         &#x27;catboostregressor__verbose&#x27;: [False]},\n",
       "             scoring=&#x27;neg_root_mean_squared_error&#x27;, verbose=2)</pre><b>In a Jupyter environment, please rerun this cell to show the HTML representation or trust the notebook. <br />On GitHub, the HTML representation is unable to render, please try loading this page with nbviewer.org.</b></div><div class=\"sk-container\" hidden><div class=\"sk-item sk-dashed-wrapped\"><div class=\"sk-label-container\"><div class=\"sk-label sk-toggleable\"><input class=\"sk-toggleable__control sk-hidden--visually\" id=\"sk-estimator-id-1\" type=\"checkbox\" ><label for=\"sk-estimator-id-1\" class=\"sk-toggleable__label sk-toggleable__label-arrow\">GridSearchCV</label><div class=\"sk-toggleable__content\"><pre>GridSearchCV(cv=5,\n",
       "             estimator=Pipeline(steps=[(&#x27;standardscaler&#x27;, StandardScaler()),\n",
       "                                       (&#x27;splinetransformer&#x27;,\n",
       "                                        SplineTransformer(n_knots=3)),\n",
       "                                       (&#x27;catboostregressor&#x27;,\n",
       "                                        &lt;catboost.core.CatBoostRegressor object at 0x7d7743139890&gt;)]),\n",
       "             param_grid={&#x27;catboostregressor__depth&#x27;: [4, 6, 8],\n",
       "                         &#x27;catboostregressor__l2_leaf_reg&#x27;: (1, 3, 5),\n",
       "                         &#x27;catboostregressor__learning_rate&#x27;: (0.01, 0.05, 0.1),\n",
       "                         &#x27;catboostregressor__n_estimators&#x27;: [100, 1000, 2000],\n",
       "                         &#x27;catboostregressor__verbose&#x27;: [False]},\n",
       "             scoring=&#x27;neg_root_mean_squared_error&#x27;, verbose=2)</pre></div></div></div><div class=\"sk-parallel\"><div class=\"sk-parallel-item\"><div class=\"sk-item\"><div class=\"sk-label-container\"><div class=\"sk-label sk-toggleable\"><input class=\"sk-toggleable__control sk-hidden--visually\" id=\"sk-estimator-id-2\" type=\"checkbox\" ><label for=\"sk-estimator-id-2\" class=\"sk-toggleable__label sk-toggleable__label-arrow\">estimator: Pipeline</label><div class=\"sk-toggleable__content\"><pre>Pipeline(steps=[(&#x27;standardscaler&#x27;, StandardScaler()),\n",
       "                (&#x27;splinetransformer&#x27;, SplineTransformer(n_knots=3)),\n",
       "                (&#x27;catboostregressor&#x27;,\n",
       "                 &lt;catboost.core.CatBoostRegressor object at 0x7d7743139890&gt;)])</pre></div></div></div><div class=\"sk-serial\"><div class=\"sk-item\"><div class=\"sk-serial\"><div class=\"sk-item\"><div class=\"sk-estimator sk-toggleable\"><input class=\"sk-toggleable__control sk-hidden--visually\" id=\"sk-estimator-id-3\" type=\"checkbox\" ><label for=\"sk-estimator-id-3\" class=\"sk-toggleable__label sk-toggleable__label-arrow\">StandardScaler</label><div class=\"sk-toggleable__content\"><pre>StandardScaler()</pre></div></div></div><div class=\"sk-item\"><div class=\"sk-estimator sk-toggleable\"><input class=\"sk-toggleable__control sk-hidden--visually\" id=\"sk-estimator-id-4\" type=\"checkbox\" ><label for=\"sk-estimator-id-4\" class=\"sk-toggleable__label sk-toggleable__label-arrow\">SplineTransformer</label><div class=\"sk-toggleable__content\"><pre>SplineTransformer(n_knots=3)</pre></div></div></div><div class=\"sk-item\"><div class=\"sk-estimator sk-toggleable\"><input class=\"sk-toggleable__control sk-hidden--visually\" id=\"sk-estimator-id-5\" type=\"checkbox\" ><label for=\"sk-estimator-id-5\" class=\"sk-toggleable__label sk-toggleable__label-arrow\">CatBoostRegressor</label><div class=\"sk-toggleable__content\"><pre>&lt;catboost.core.CatBoostRegressor object at 0x7d7743139890&gt;</pre></div></div></div></div></div></div></div></div></div></div></div></div>"
      ],
      "text/plain": [
       "GridSearchCV(cv=5,\n",
       "             estimator=Pipeline(steps=[('standardscaler', StandardScaler()),\n",
       "                                       ('splinetransformer',\n",
       "                                        SplineTransformer(n_knots=3)),\n",
       "                                       ('catboostregressor',\n",
       "                                        <catboost.core.CatBoostRegressor object at 0x7d7743139890>)]),\n",
       "             param_grid={'catboostregressor__depth': [4, 6, 8],\n",
       "                         'catboostregressor__l2_leaf_reg': (1, 3, 5),\n",
       "                         'catboostregressor__learning_rate': (0.01, 0.05, 0.1),\n",
       "                         'catboostregressor__n_estimators': [100, 1000, 2000],\n",
       "                         'catboostregressor__verbose': [False]},\n",
       "             scoring='neg_root_mean_squared_error', verbose=2)"
      ]
     },
     "execution_count": 13,
     "metadata": {},
     "output_type": "execute_result"
    }
   ],
   "source": [
    "regressor = make_pipeline(StandardScaler(), SplineTransformer(degree=3, n_knots=3), CatBoostRegressor())\n",
    "param_grid = { 'catboostregressor__learning_rate': (0.01, 0.05, 0.1),\n",
    "                'catboostregressor__l2_leaf_reg': (1, 3, 5),\n",
    "                'catboostregressor__depth': [4, 6, 8],\n",
    "                'catboostregressor__n_estimators': [100, 1000, 2000],\n",
    "                'catboostregressor__verbose':[False]\n",
    "               }\n",
    "search = GridSearchCV(regressor, param_grid, cv=5, verbose=2, scoring='neg_root_mean_squared_error',refit=True)\n",
    "search.fit(X_train, y_train)"
   ]
  },
  {
   "cell_type": "code",
   "execution_count": 14,
   "id": "c3d491dd",
   "metadata": {
    "execution": {
     "iopub.execute_input": "2025-09-13T23:37:04.857923Z",
     "iopub.status.busy": "2025-09-13T23:37:04.857562Z",
     "iopub.status.idle": "2025-09-13T23:37:04.864486Z",
     "shell.execute_reply": "2025-09-13T23:37:04.863596Z"
    },
    "papermill": {
     "duration": 0.035749,
     "end_time": "2025-09-13T23:37:04.865728",
     "exception": false,
     "start_time": "2025-09-13T23:37:04.829979",
     "status": "completed"
    },
    "tags": []
   },
   "outputs": [
    {
     "data": {
      "text/plain": [
       "-25.66917510891301"
      ]
     },
     "execution_count": 14,
     "metadata": {},
     "output_type": "execute_result"
    }
   ],
   "source": [
    "search.best_score_"
   ]
  },
  {
   "cell_type": "code",
   "execution_count": 15,
   "id": "b21533b9",
   "metadata": {
    "execution": {
     "iopub.execute_input": "2025-09-13T23:37:04.918790Z",
     "iopub.status.busy": "2025-09-13T23:37:04.918427Z",
     "iopub.status.idle": "2025-09-13T23:37:04.924117Z",
     "shell.execute_reply": "2025-09-13T23:37:04.923303Z"
    },
    "papermill": {
     "duration": 0.033869,
     "end_time": "2025-09-13T23:37:04.925384",
     "exception": false,
     "start_time": "2025-09-13T23:37:04.891515",
     "status": "completed"
    },
    "tags": []
   },
   "outputs": [
    {
     "data": {
      "text/plain": [
       "{'catboostregressor__depth': 6,\n",
       " 'catboostregressor__l2_leaf_reg': 1,\n",
       " 'catboostregressor__learning_rate': 0.01,\n",
       " 'catboostregressor__n_estimators': 1000,\n",
       " 'catboostregressor__verbose': False}"
      ]
     },
     "execution_count": 15,
     "metadata": {},
     "output_type": "execute_result"
    }
   ],
   "source": [
    "search.best_params_"
   ]
  },
  {
   "cell_type": "markdown",
   "id": "659f2ad7",
   "metadata": {
    "papermill": {
     "duration": 0.02645,
     "end_time": "2025-09-13T23:37:04.978435",
     "exception": false,
     "start_time": "2025-09-13T23:37:04.951985",
     "status": "completed"
    },
    "tags": []
   },
   "source": [
    "# Prediction 🔎"
   ]
  },
  {
   "cell_type": "code",
   "execution_count": 16,
   "id": "d04b15ee",
   "metadata": {
    "execution": {
     "iopub.execute_input": "2025-09-13T23:37:05.032483Z",
     "iopub.status.busy": "2025-09-13T23:37:05.031739Z",
     "iopub.status.idle": "2025-09-13T23:37:05.035889Z",
     "shell.execute_reply": "2025-09-13T23:37:05.035253Z"
    },
    "papermill": {
     "duration": 0.032345,
     "end_time": "2025-09-13T23:37:05.037154",
     "exception": false,
     "start_time": "2025-09-13T23:37:05.004809",
     "status": "completed"
    },
    "tags": []
   },
   "outputs": [],
   "source": [
    "def rmse(y, y_hat):\n",
    "    return np.sqrt(mean_squared_error(y, y_hat))"
   ]
  },
  {
   "cell_type": "code",
   "execution_count": 17,
   "id": "56e266ca",
   "metadata": {
    "execution": {
     "iopub.execute_input": "2025-09-13T23:37:05.090593Z",
     "iopub.status.busy": "2025-09-13T23:37:05.089649Z",
     "iopub.status.idle": "2025-09-13T23:37:06.741576Z",
     "shell.execute_reply": "2025-09-13T23:37:06.740695Z"
    },
    "papermill": {
     "duration": 1.680063,
     "end_time": "2025-09-13T23:37:06.743044",
     "exception": false,
     "start_time": "2025-09-13T23:37:05.062981",
     "status": "completed"
    },
    "tags": []
   },
   "outputs": [
    {
     "data": {
      "text/plain": [
       "25.72179785478264"
      ]
     },
     "execution_count": 17,
     "metadata": {},
     "output_type": "execute_result"
    }
   ],
   "source": [
    "pred = search.predict(X_val)\n",
    "rmse(y_val, pred)"
   ]
  },
  {
   "cell_type": "code",
   "execution_count": 18,
   "id": "a926682b",
   "metadata": {
    "execution": {
     "iopub.execute_input": "2025-09-13T23:37:06.800562Z",
     "iopub.status.busy": "2025-09-13T23:37:06.800252Z",
     "iopub.status.idle": "2025-09-13T23:37:10.680733Z",
     "shell.execute_reply": "2025-09-13T23:37:10.679761Z"
    },
    "papermill": {
     "duration": 3.912342,
     "end_time": "2025-09-13T23:37:10.682481",
     "exception": false,
     "start_time": "2025-09-13T23:37:06.770139",
     "status": "completed"
    },
    "tags": []
   },
   "outputs": [],
   "source": [
    "pred = pd.DataFrame({\n",
    "    'id': test.id,\n",
    "    'BeatsPerMinute': search.predict(test)\n",
    "})\n",
    "pred.to_csv('best_catboost_prediction_no_idx.csv', index=False)"
   ]
  }
 ],
 "metadata": {
  "kaggle": {
   "accelerator": "none",
   "dataSources": [
    {
     "databundleVersionId": 13345277,
     "sourceId": 91720,
     "sourceType": "competition"
    }
   ],
   "dockerImageVersionId": 31089,
   "isGpuEnabled": false,
   "isInternetEnabled": true,
   "language": "python",
   "sourceType": "notebook"
  },
  "kernelspec": {
   "display_name": "Python 3",
   "language": "python",
   "name": "python3"
  },
  "language_info": {
   "codemirror_mode": {
    "name": "ipython",
    "version": 3
   },
   "file_extension": ".py",
   "mimetype": "text/x-python",
   "name": "python",
   "nbconvert_exporter": "python",
   "pygments_lexer": "ipython3",
   "version": "3.11.13"
  },
  "papermill": {
   "default_parameters": {},
   "duration": 24477.442311,
   "end_time": "2025-09-13T23:37:11.754634",
   "environment_variables": {},
   "exception": null,
   "input_path": "__notebook__.ipynb",
   "output_path": "__notebook__.ipynb",
   "parameters": {},
   "start_time": "2025-09-13T16:49:14.312323",
   "version": "2.6.0"
  }
 },
 "nbformat": 4,
 "nbformat_minor": 5
}
